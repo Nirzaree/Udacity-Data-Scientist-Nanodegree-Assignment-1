{
 "cells": [
  {
   "cell_type": "markdown",
   "metadata": {},
   "source": [
    "In this notebook, we analyse the Seattle AirBnB dataset. \n",
    "The data is available at: https://www.kaggle.com/airbnb/seattle\n",
    "\n",
    "The motivation of the analysis is to understand the various factors that determine the price of any listing, understand how the prices in the listings vary through the year and the neighborhoods in Seattle. "
   ]
  },
  {
   "cell_type": "markdown",
   "metadata": {},
   "source": [
    "We will follow the CRISP-DM (Cross-Industry Standard Process for Data Mining) methodology, which consists of the following steps:   \n",
    "\n",
    "    1. Business Understanding\n",
    "    2. Data Understanding \n",
    "    3. Prepare Data\n",
    "    4. Data Modeling \n",
    "    5. Evaluation"
   ]
  },
  {
   "cell_type": "markdown",
   "metadata": {},
   "source": [
    "## Section 1. Business Understanding"
   ]
  },
  {
   "cell_type": "markdown",
   "metadata": {},
   "source": [
    "We would like to understand a few insights from the data:  \n",
    " \n",
    "    1. Are there price variations within the year? Which months are most expensive and which are not?  \n",
    "    \n",
    "    2. How are the prices of properties distributed across the neighborhoods?\n",
    "    \n",
    "    3. Which are the important factors for determining the price of a property? Can we model this?   "
   ]
  },
  {
   "cell_type": "markdown",
   "metadata": {},
   "source": [
    "## Section 2. Data Understanding"
   ]
  },
  {
   "cell_type": "markdown",
   "metadata": {},
   "source": [
    "### Setup"
   ]
  },
  {
   "cell_type": "code",
   "execution_count": 1,
   "metadata": {},
   "outputs": [],
   "source": [
    "import numpy as np\n",
    "import pandas as pd\n",
    "import matplotlib.pyplot as plt\n",
    "import seaborn as sns\n",
    "\n",
    "from datetime import datetime\n",
    "\n",
    "%matplotlib inline"
   ]
  },
  {
   "cell_type": "code",
   "execution_count": 2,
   "metadata": {},
   "outputs": [],
   "source": [
    "pd.options.display.max_columns = 500"
   ]
  },
  {
   "cell_type": "markdown",
   "metadata": {},
   "source": [
    "### Load Data"
   ]
  },
  {
   "cell_type": "code",
   "execution_count": 3,
   "metadata": {},
   "outputs": [],
   "source": [
    "dfListings = pd.read_csv('./listings.csv')"
   ]
  },
  {
   "cell_type": "code",
   "execution_count": 4,
   "metadata": {},
   "outputs": [
    {
     "data": {
      "text/html": [
       "<div>\n",
       "<style scoped>\n",
       "    .dataframe tbody tr th:only-of-type {\n",
       "        vertical-align: middle;\n",
       "    }\n",
       "\n",
       "    .dataframe tbody tr th {\n",
       "        vertical-align: top;\n",
       "    }\n",
       "\n",
       "    .dataframe thead th {\n",
       "        text-align: right;\n",
       "    }\n",
       "</style>\n",
       "<table border=\"1\" class=\"dataframe\">\n",
       "  <thead>\n",
       "    <tr style=\"text-align: right;\">\n",
       "      <th></th>\n",
       "      <th>id</th>\n",
       "      <th>listing_url</th>\n",
       "      <th>scrape_id</th>\n",
       "      <th>last_scraped</th>\n",
       "      <th>name</th>\n",
       "      <th>summary</th>\n",
       "      <th>space</th>\n",
       "      <th>description</th>\n",
       "      <th>experiences_offered</th>\n",
       "      <th>neighborhood_overview</th>\n",
       "      <th>notes</th>\n",
       "      <th>transit</th>\n",
       "      <th>thumbnail_url</th>\n",
       "      <th>medium_url</th>\n",
       "      <th>picture_url</th>\n",
       "      <th>xl_picture_url</th>\n",
       "      <th>host_id</th>\n",
       "      <th>host_url</th>\n",
       "      <th>host_name</th>\n",
       "      <th>host_since</th>\n",
       "      <th>host_location</th>\n",
       "      <th>host_about</th>\n",
       "      <th>host_response_time</th>\n",
       "      <th>host_response_rate</th>\n",
       "      <th>host_acceptance_rate</th>\n",
       "      <th>host_is_superhost</th>\n",
       "      <th>host_thumbnail_url</th>\n",
       "      <th>host_picture_url</th>\n",
       "      <th>host_neighbourhood</th>\n",
       "      <th>host_listings_count</th>\n",
       "      <th>host_total_listings_count</th>\n",
       "      <th>host_verifications</th>\n",
       "      <th>host_has_profile_pic</th>\n",
       "      <th>host_identity_verified</th>\n",
       "      <th>street</th>\n",
       "      <th>neighbourhood</th>\n",
       "      <th>neighbourhood_cleansed</th>\n",
       "      <th>neighbourhood_group_cleansed</th>\n",
       "      <th>city</th>\n",
       "      <th>state</th>\n",
       "      <th>zipcode</th>\n",
       "      <th>market</th>\n",
       "      <th>smart_location</th>\n",
       "      <th>country_code</th>\n",
       "      <th>country</th>\n",
       "      <th>latitude</th>\n",
       "      <th>longitude</th>\n",
       "      <th>is_location_exact</th>\n",
       "      <th>property_type</th>\n",
       "      <th>room_type</th>\n",
       "      <th>accommodates</th>\n",
       "      <th>bathrooms</th>\n",
       "      <th>bedrooms</th>\n",
       "      <th>beds</th>\n",
       "      <th>bed_type</th>\n",
       "      <th>amenities</th>\n",
       "      <th>square_feet</th>\n",
       "      <th>price</th>\n",
       "      <th>weekly_price</th>\n",
       "      <th>monthly_price</th>\n",
       "      <th>security_deposit</th>\n",
       "      <th>cleaning_fee</th>\n",
       "      <th>guests_included</th>\n",
       "      <th>extra_people</th>\n",
       "      <th>minimum_nights</th>\n",
       "      <th>maximum_nights</th>\n",
       "      <th>calendar_updated</th>\n",
       "      <th>has_availability</th>\n",
       "      <th>availability_30</th>\n",
       "      <th>availability_60</th>\n",
       "      <th>availability_90</th>\n",
       "      <th>availability_365</th>\n",
       "      <th>calendar_last_scraped</th>\n",
       "      <th>number_of_reviews</th>\n",
       "      <th>first_review</th>\n",
       "      <th>last_review</th>\n",
       "      <th>review_scores_rating</th>\n",
       "      <th>review_scores_accuracy</th>\n",
       "      <th>review_scores_cleanliness</th>\n",
       "      <th>review_scores_checkin</th>\n",
       "      <th>review_scores_communication</th>\n",
       "      <th>review_scores_location</th>\n",
       "      <th>review_scores_value</th>\n",
       "      <th>requires_license</th>\n",
       "      <th>license</th>\n",
       "      <th>jurisdiction_names</th>\n",
       "      <th>instant_bookable</th>\n",
       "      <th>cancellation_policy</th>\n",
       "      <th>require_guest_profile_picture</th>\n",
       "      <th>require_guest_phone_verification</th>\n",
       "      <th>calculated_host_listings_count</th>\n",
       "      <th>reviews_per_month</th>\n",
       "    </tr>\n",
       "  </thead>\n",
       "  <tbody>\n",
       "    <tr>\n",
       "      <th>0</th>\n",
       "      <td>241032</td>\n",
       "      <td>https://www.airbnb.com/rooms/241032</td>\n",
       "      <td>20160104002432</td>\n",
       "      <td>2016-01-04</td>\n",
       "      <td>Stylish Queen Anne Apartment</td>\n",
       "      <td>NaN</td>\n",
       "      <td>Make your self at home in this charming one-be...</td>\n",
       "      <td>Make your self at home in this charming one-be...</td>\n",
       "      <td>none</td>\n",
       "      <td>NaN</td>\n",
       "      <td>NaN</td>\n",
       "      <td>NaN</td>\n",
       "      <td>NaN</td>\n",
       "      <td>NaN</td>\n",
       "      <td>https://a1.muscache.com/ac/pictures/67560560/c...</td>\n",
       "      <td>NaN</td>\n",
       "      <td>956883</td>\n",
       "      <td>https://www.airbnb.com/users/show/956883</td>\n",
       "      <td>Maija</td>\n",
       "      <td>2011-08-11</td>\n",
       "      <td>Seattle, Washington, United States</td>\n",
       "      <td>I am an artist, interior designer, and run a s...</td>\n",
       "      <td>within a few hours</td>\n",
       "      <td>96%</td>\n",
       "      <td>100%</td>\n",
       "      <td>f</td>\n",
       "      <td>https://a0.muscache.com/ac/users/956883/profil...</td>\n",
       "      <td>https://a0.muscache.com/ac/users/956883/profil...</td>\n",
       "      <td>Queen Anne</td>\n",
       "      <td>3.0</td>\n",
       "      <td>3.0</td>\n",
       "      <td>['email', 'phone', 'reviews', 'kba']</td>\n",
       "      <td>t</td>\n",
       "      <td>t</td>\n",
       "      <td>Gilman Dr W, Seattle, WA 98119, United States</td>\n",
       "      <td>Queen Anne</td>\n",
       "      <td>West Queen Anne</td>\n",
       "      <td>Queen Anne</td>\n",
       "      <td>Seattle</td>\n",
       "      <td>WA</td>\n",
       "      <td>98119</td>\n",
       "      <td>Seattle</td>\n",
       "      <td>Seattle, WA</td>\n",
       "      <td>US</td>\n",
       "      <td>United States</td>\n",
       "      <td>47.636289</td>\n",
       "      <td>-122.371025</td>\n",
       "      <td>t</td>\n",
       "      <td>Apartment</td>\n",
       "      <td>Entire home/apt</td>\n",
       "      <td>4</td>\n",
       "      <td>1.0</td>\n",
       "      <td>1.0</td>\n",
       "      <td>1.0</td>\n",
       "      <td>Real Bed</td>\n",
       "      <td>{TV,\"Cable TV\",Internet,\"Wireless Internet\",\"A...</td>\n",
       "      <td>NaN</td>\n",
       "      <td>$85.00</td>\n",
       "      <td>NaN</td>\n",
       "      <td>NaN</td>\n",
       "      <td>NaN</td>\n",
       "      <td>NaN</td>\n",
       "      <td>2</td>\n",
       "      <td>$5.00</td>\n",
       "      <td>1</td>\n",
       "      <td>365</td>\n",
       "      <td>4 weeks ago</td>\n",
       "      <td>t</td>\n",
       "      <td>14</td>\n",
       "      <td>41</td>\n",
       "      <td>71</td>\n",
       "      <td>346</td>\n",
       "      <td>2016-01-04</td>\n",
       "      <td>207</td>\n",
       "      <td>2011-11-01</td>\n",
       "      <td>2016-01-02</td>\n",
       "      <td>95.0</td>\n",
       "      <td>10.0</td>\n",
       "      <td>10.0</td>\n",
       "      <td>10.0</td>\n",
       "      <td>10.0</td>\n",
       "      <td>9.0</td>\n",
       "      <td>10.0</td>\n",
       "      <td>f</td>\n",
       "      <td>NaN</td>\n",
       "      <td>WASHINGTON</td>\n",
       "      <td>f</td>\n",
       "      <td>moderate</td>\n",
       "      <td>f</td>\n",
       "      <td>f</td>\n",
       "      <td>2</td>\n",
       "      <td>4.07</td>\n",
       "    </tr>\n",
       "    <tr>\n",
       "      <th>1</th>\n",
       "      <td>953595</td>\n",
       "      <td>https://www.airbnb.com/rooms/953595</td>\n",
       "      <td>20160104002432</td>\n",
       "      <td>2016-01-04</td>\n",
       "      <td>Bright &amp; Airy Queen Anne Apartment</td>\n",
       "      <td>Chemically sensitive? We've removed the irrita...</td>\n",
       "      <td>Beautiful, hypoallergenic apartment in an extr...</td>\n",
       "      <td>Chemically sensitive? We've removed the irrita...</td>\n",
       "      <td>none</td>\n",
       "      <td>Queen Anne is a wonderful, truly functional vi...</td>\n",
       "      <td>What's up with the free pillows?  Our home was...</td>\n",
       "      <td>Convenient bus stops are just down the block, ...</td>\n",
       "      <td>https://a0.muscache.com/ac/pictures/14409893/f...</td>\n",
       "      <td>https://a0.muscache.com/im/pictures/14409893/f...</td>\n",
       "      <td>https://a0.muscache.com/ac/pictures/14409893/f...</td>\n",
       "      <td>https://a0.muscache.com/ac/pictures/14409893/f...</td>\n",
       "      <td>5177328</td>\n",
       "      <td>https://www.airbnb.com/users/show/5177328</td>\n",
       "      <td>Andrea</td>\n",
       "      <td>2013-02-21</td>\n",
       "      <td>Seattle, Washington, United States</td>\n",
       "      <td>Living east coast/left coast/overseas.  Time i...</td>\n",
       "      <td>within an hour</td>\n",
       "      <td>98%</td>\n",
       "      <td>100%</td>\n",
       "      <td>t</td>\n",
       "      <td>https://a0.muscache.com/ac/users/5177328/profi...</td>\n",
       "      <td>https://a0.muscache.com/ac/users/5177328/profi...</td>\n",
       "      <td>Queen Anne</td>\n",
       "      <td>6.0</td>\n",
       "      <td>6.0</td>\n",
       "      <td>['email', 'phone', 'facebook', 'linkedin', 're...</td>\n",
       "      <td>t</td>\n",
       "      <td>t</td>\n",
       "      <td>7th Avenue West, Seattle, WA 98119, United States</td>\n",
       "      <td>Queen Anne</td>\n",
       "      <td>West Queen Anne</td>\n",
       "      <td>Queen Anne</td>\n",
       "      <td>Seattle</td>\n",
       "      <td>WA</td>\n",
       "      <td>98119</td>\n",
       "      <td>Seattle</td>\n",
       "      <td>Seattle, WA</td>\n",
       "      <td>US</td>\n",
       "      <td>United States</td>\n",
       "      <td>47.639123</td>\n",
       "      <td>-122.365666</td>\n",
       "      <td>t</td>\n",
       "      <td>Apartment</td>\n",
       "      <td>Entire home/apt</td>\n",
       "      <td>4</td>\n",
       "      <td>1.0</td>\n",
       "      <td>1.0</td>\n",
       "      <td>1.0</td>\n",
       "      <td>Real Bed</td>\n",
       "      <td>{TV,Internet,\"Wireless Internet\",Kitchen,\"Free...</td>\n",
       "      <td>NaN</td>\n",
       "      <td>$150.00</td>\n",
       "      <td>$1,000.00</td>\n",
       "      <td>$3,000.00</td>\n",
       "      <td>$100.00</td>\n",
       "      <td>$40.00</td>\n",
       "      <td>1</td>\n",
       "      <td>$0.00</td>\n",
       "      <td>2</td>\n",
       "      <td>90</td>\n",
       "      <td>today</td>\n",
       "      <td>t</td>\n",
       "      <td>13</td>\n",
       "      <td>13</td>\n",
       "      <td>16</td>\n",
       "      <td>291</td>\n",
       "      <td>2016-01-04</td>\n",
       "      <td>43</td>\n",
       "      <td>2013-08-19</td>\n",
       "      <td>2015-12-29</td>\n",
       "      <td>96.0</td>\n",
       "      <td>10.0</td>\n",
       "      <td>10.0</td>\n",
       "      <td>10.0</td>\n",
       "      <td>10.0</td>\n",
       "      <td>10.0</td>\n",
       "      <td>10.0</td>\n",
       "      <td>f</td>\n",
       "      <td>NaN</td>\n",
       "      <td>WASHINGTON</td>\n",
       "      <td>f</td>\n",
       "      <td>strict</td>\n",
       "      <td>t</td>\n",
       "      <td>t</td>\n",
       "      <td>6</td>\n",
       "      <td>1.48</td>\n",
       "    </tr>\n",
       "  </tbody>\n",
       "</table>\n",
       "</div>"
      ],
      "text/plain": [
       "       id                          listing_url       scrape_id last_scraped  \\\n",
       "0  241032  https://www.airbnb.com/rooms/241032  20160104002432   2016-01-04   \n",
       "1  953595  https://www.airbnb.com/rooms/953595  20160104002432   2016-01-04   \n",
       "\n",
       "                                 name  \\\n",
       "0        Stylish Queen Anne Apartment   \n",
       "1  Bright & Airy Queen Anne Apartment   \n",
       "\n",
       "                                             summary  \\\n",
       "0                                                NaN   \n",
       "1  Chemically sensitive? We've removed the irrita...   \n",
       "\n",
       "                                               space  \\\n",
       "0  Make your self at home in this charming one-be...   \n",
       "1  Beautiful, hypoallergenic apartment in an extr...   \n",
       "\n",
       "                                         description experiences_offered  \\\n",
       "0  Make your self at home in this charming one-be...                none   \n",
       "1  Chemically sensitive? We've removed the irrita...                none   \n",
       "\n",
       "                               neighborhood_overview  \\\n",
       "0                                                NaN   \n",
       "1  Queen Anne is a wonderful, truly functional vi...   \n",
       "\n",
       "                                               notes  \\\n",
       "0                                                NaN   \n",
       "1  What's up with the free pillows?  Our home was...   \n",
       "\n",
       "                                             transit  \\\n",
       "0                                                NaN   \n",
       "1  Convenient bus stops are just down the block, ...   \n",
       "\n",
       "                                       thumbnail_url  \\\n",
       "0                                                NaN   \n",
       "1  https://a0.muscache.com/ac/pictures/14409893/f...   \n",
       "\n",
       "                                          medium_url  \\\n",
       "0                                                NaN   \n",
       "1  https://a0.muscache.com/im/pictures/14409893/f...   \n",
       "\n",
       "                                         picture_url  \\\n",
       "0  https://a1.muscache.com/ac/pictures/67560560/c...   \n",
       "1  https://a0.muscache.com/ac/pictures/14409893/f...   \n",
       "\n",
       "                                      xl_picture_url  host_id  \\\n",
       "0                                                NaN   956883   \n",
       "1  https://a0.muscache.com/ac/pictures/14409893/f...  5177328   \n",
       "\n",
       "                                    host_url host_name  host_since  \\\n",
       "0   https://www.airbnb.com/users/show/956883     Maija  2011-08-11   \n",
       "1  https://www.airbnb.com/users/show/5177328    Andrea  2013-02-21   \n",
       "\n",
       "                        host_location  \\\n",
       "0  Seattle, Washington, United States   \n",
       "1  Seattle, Washington, United States   \n",
       "\n",
       "                                          host_about  host_response_time  \\\n",
       "0  I am an artist, interior designer, and run a s...  within a few hours   \n",
       "1  Living east coast/left coast/overseas.  Time i...      within an hour   \n",
       "\n",
       "  host_response_rate host_acceptance_rate host_is_superhost  \\\n",
       "0                96%                 100%                 f   \n",
       "1                98%                 100%                 t   \n",
       "\n",
       "                                  host_thumbnail_url  \\\n",
       "0  https://a0.muscache.com/ac/users/956883/profil...   \n",
       "1  https://a0.muscache.com/ac/users/5177328/profi...   \n",
       "\n",
       "                                    host_picture_url host_neighbourhood  \\\n",
       "0  https://a0.muscache.com/ac/users/956883/profil...         Queen Anne   \n",
       "1  https://a0.muscache.com/ac/users/5177328/profi...         Queen Anne   \n",
       "\n",
       "   host_listings_count  host_total_listings_count  \\\n",
       "0                  3.0                        3.0   \n",
       "1                  6.0                        6.0   \n",
       "\n",
       "                                  host_verifications host_has_profile_pic  \\\n",
       "0               ['email', 'phone', 'reviews', 'kba']                    t   \n",
       "1  ['email', 'phone', 'facebook', 'linkedin', 're...                    t   \n",
       "\n",
       "  host_identity_verified                                             street  \\\n",
       "0                      t      Gilman Dr W, Seattle, WA 98119, United States   \n",
       "1                      t  7th Avenue West, Seattle, WA 98119, United States   \n",
       "\n",
       "  neighbourhood neighbourhood_cleansed neighbourhood_group_cleansed     city  \\\n",
       "0    Queen Anne        West Queen Anne                   Queen Anne  Seattle   \n",
       "1    Queen Anne        West Queen Anne                   Queen Anne  Seattle   \n",
       "\n",
       "  state zipcode   market smart_location country_code        country  \\\n",
       "0    WA   98119  Seattle    Seattle, WA           US  United States   \n",
       "1    WA   98119  Seattle    Seattle, WA           US  United States   \n",
       "\n",
       "    latitude   longitude is_location_exact property_type        room_type  \\\n",
       "0  47.636289 -122.371025                 t     Apartment  Entire home/apt   \n",
       "1  47.639123 -122.365666                 t     Apartment  Entire home/apt   \n",
       "\n",
       "   accommodates  bathrooms  bedrooms  beds  bed_type  \\\n",
       "0             4        1.0       1.0   1.0  Real Bed   \n",
       "1             4        1.0       1.0   1.0  Real Bed   \n",
       "\n",
       "                                           amenities  square_feet    price  \\\n",
       "0  {TV,\"Cable TV\",Internet,\"Wireless Internet\",\"A...          NaN   $85.00   \n",
       "1  {TV,Internet,\"Wireless Internet\",Kitchen,\"Free...          NaN  $150.00   \n",
       "\n",
       "  weekly_price monthly_price security_deposit cleaning_fee  guests_included  \\\n",
       "0          NaN           NaN              NaN          NaN                2   \n",
       "1    $1,000.00     $3,000.00          $100.00       $40.00                1   \n",
       "\n",
       "  extra_people  minimum_nights  maximum_nights calendar_updated  \\\n",
       "0        $5.00               1             365      4 weeks ago   \n",
       "1        $0.00               2              90            today   \n",
       "\n",
       "  has_availability  availability_30  availability_60  availability_90  \\\n",
       "0                t               14               41               71   \n",
       "1                t               13               13               16   \n",
       "\n",
       "   availability_365 calendar_last_scraped  number_of_reviews first_review  \\\n",
       "0               346            2016-01-04                207   2011-11-01   \n",
       "1               291            2016-01-04                 43   2013-08-19   \n",
       "\n",
       "  last_review  review_scores_rating  review_scores_accuracy  \\\n",
       "0  2016-01-02                  95.0                    10.0   \n",
       "1  2015-12-29                  96.0                    10.0   \n",
       "\n",
       "   review_scores_cleanliness  review_scores_checkin  \\\n",
       "0                       10.0                   10.0   \n",
       "1                       10.0                   10.0   \n",
       "\n",
       "   review_scores_communication  review_scores_location  review_scores_value  \\\n",
       "0                         10.0                     9.0                 10.0   \n",
       "1                         10.0                    10.0                 10.0   \n",
       "\n",
       "  requires_license  license jurisdiction_names instant_bookable  \\\n",
       "0                f      NaN         WASHINGTON                f   \n",
       "1                f      NaN         WASHINGTON                f   \n",
       "\n",
       "  cancellation_policy require_guest_profile_picture  \\\n",
       "0            moderate                             f   \n",
       "1              strict                             t   \n",
       "\n",
       "  require_guest_phone_verification  calculated_host_listings_count  \\\n",
       "0                                f                               2   \n",
       "1                                t                               6   \n",
       "\n",
       "   reviews_per_month  \n",
       "0               4.07  \n",
       "1               1.48  "
      ]
     },
     "execution_count": 4,
     "metadata": {},
     "output_type": "execute_result"
    }
   ],
   "source": [
    "dfListings.head(2)"
   ]
  },
  {
   "cell_type": "code",
   "execution_count": 5,
   "metadata": {},
   "outputs": [],
   "source": [
    "ListingsColumns = ['id','host_id','host_since','host_response_time','host_response_rate', \\\n",
    "                   'host_acceptance_rate','host_is_superhost', 'host_identity_verified', \\\n",
    "                   'neighbourhood_group_cleansed', 'property_type','room_type','accommodates','bathrooms',\\\n",
    "                   'bedrooms','guests_included','minimum_nights','review_scores_rating','reviews_per_month']"
   ]
  },
  {
   "cell_type": "code",
   "execution_count": 6,
   "metadata": {},
   "outputs": [],
   "source": [
    "dfListings = dfListings[ListingsColumns]"
   ]
  },
  {
   "cell_type": "code",
   "execution_count": 7,
   "metadata": {},
   "outputs": [
    {
     "data": {
      "text/plain": [
       "(3818, 18)"
      ]
     },
     "execution_count": 7,
     "metadata": {},
     "output_type": "execute_result"
    }
   ],
   "source": [
    "dfListings.shape"
   ]
  },
  {
   "cell_type": "code",
   "execution_count": 8,
   "metadata": {},
   "outputs": [],
   "source": [
    "dfCalender = pd.read_csv('./calendar.csv')"
   ]
  },
  {
   "cell_type": "code",
   "execution_count": 9,
   "metadata": {},
   "outputs": [
    {
     "data": {
      "text/html": [
       "<div>\n",
       "<style scoped>\n",
       "    .dataframe tbody tr th:only-of-type {\n",
       "        vertical-align: middle;\n",
       "    }\n",
       "\n",
       "    .dataframe tbody tr th {\n",
       "        vertical-align: top;\n",
       "    }\n",
       "\n",
       "    .dataframe thead th {\n",
       "        text-align: right;\n",
       "    }\n",
       "</style>\n",
       "<table border=\"1\" class=\"dataframe\">\n",
       "  <thead>\n",
       "    <tr style=\"text-align: right;\">\n",
       "      <th></th>\n",
       "      <th>listing_id</th>\n",
       "      <th>date</th>\n",
       "      <th>available</th>\n",
       "      <th>price</th>\n",
       "    </tr>\n",
       "  </thead>\n",
       "  <tbody>\n",
       "    <tr>\n",
       "      <th>0</th>\n",
       "      <td>241032</td>\n",
       "      <td>2016-01-04</td>\n",
       "      <td>t</td>\n",
       "      <td>$85.00</td>\n",
       "    </tr>\n",
       "    <tr>\n",
       "      <th>1</th>\n",
       "      <td>241032</td>\n",
       "      <td>2016-01-05</td>\n",
       "      <td>t</td>\n",
       "      <td>$85.00</td>\n",
       "    </tr>\n",
       "    <tr>\n",
       "      <th>2</th>\n",
       "      <td>241032</td>\n",
       "      <td>2016-01-06</td>\n",
       "      <td>f</td>\n",
       "      <td>NaN</td>\n",
       "    </tr>\n",
       "    <tr>\n",
       "      <th>3</th>\n",
       "      <td>241032</td>\n",
       "      <td>2016-01-07</td>\n",
       "      <td>f</td>\n",
       "      <td>NaN</td>\n",
       "    </tr>\n",
       "    <tr>\n",
       "      <th>4</th>\n",
       "      <td>241032</td>\n",
       "      <td>2016-01-08</td>\n",
       "      <td>f</td>\n",
       "      <td>NaN</td>\n",
       "    </tr>\n",
       "  </tbody>\n",
       "</table>\n",
       "</div>"
      ],
      "text/plain": [
       "   listing_id        date available   price\n",
       "0      241032  2016-01-04         t  $85.00\n",
       "1      241032  2016-01-05         t  $85.00\n",
       "2      241032  2016-01-06         f     NaN\n",
       "3      241032  2016-01-07         f     NaN\n",
       "4      241032  2016-01-08         f     NaN"
      ]
     },
     "execution_count": 9,
     "metadata": {},
     "output_type": "execute_result"
    }
   ],
   "source": [
    "dfCalender.head()"
   ]
  },
  {
   "cell_type": "markdown",
   "metadata": {},
   "source": [
    "## Section 3. Data Preparation"
   ]
  },
  {
   "cell_type": "markdown",
   "metadata": {},
   "source": [
    "#### a. Number of hosts and number of listings"
   ]
  },
  {
   "cell_type": "code",
   "execution_count": 10,
   "metadata": {},
   "outputs": [
    {
     "name": "stdout",
     "output_type": "stream",
     "text": [
      "Number of hosts = 2751 & number of listings in Seattle = 3818\n"
     ]
    }
   ],
   "source": [
    "no_hosts = dfListings['host_id'].nunique()\n",
    "no_listings = dfListings.shape[0]\n",
    "\n",
    "print(\"Number of hosts = {} & number of listings in Seattle = {}\".format(no_hosts,no_listings))"
   ]
  },
  {
   "cell_type": "code",
   "execution_count": 11,
   "metadata": {},
   "outputs": [],
   "source": [
    "dfCalender['date'] = pd.to_datetime(dfCalender['date'])"
   ]
  },
  {
   "cell_type": "code",
   "execution_count": 12,
   "metadata": {},
   "outputs": [
    {
     "name": "stdout",
     "output_type": "stream",
     "text": [
      "Data Duration: 2016-01-04 00:00:00 to 2017-01-02 00:00:00\n"
     ]
    }
   ],
   "source": [
    "mindate = dfCalender['date'].min()\n",
    "maxdate = dfCalender['date'].max()\n",
    "print(\"Data Duration: {} to {}\".format(mindate,maxdate))"
   ]
  },
  {
   "cell_type": "markdown",
   "metadata": {},
   "source": [
    "### b. Duplicate Data"
   ]
  },
  {
   "cell_type": "code",
   "execution_count": 13,
   "metadata": {},
   "outputs": [
    {
     "name": "stdout",
     "output_type": "stream",
     "text": [
      "Duplicated Listings Rows = 0\n"
     ]
    }
   ],
   "source": [
    "duplicatedListings = dfListings.duplicated().sum()\n",
    "\n",
    "print(\"Duplicated Listings Rows = {}\".format(duplicatedListings))"
   ]
  },
  {
   "cell_type": "code",
   "execution_count": 14,
   "metadata": {},
   "outputs": [
    {
     "name": "stdout",
     "output_type": "stream",
     "text": [
      "Duplicated Calender Dataset Rows = 0\n"
     ]
    }
   ],
   "source": [
    "duplicatedCalender = dfCalender.duplicated().sum()\n",
    "\n",
    "print(\"Duplicated Calender Dataset Rows = {}\".format(duplicatedCalender))"
   ]
  },
  {
   "cell_type": "markdown",
   "metadata": {},
   "source": [
    "### c. Missing Data"
   ]
  },
  {
   "cell_type": "code",
   "execution_count": 15,
   "metadata": {},
   "outputs": [
    {
     "data": {
      "text/plain": [
       "host_acceptance_rate            0.202462\n",
       "review_scores_rating            0.169460\n",
       "reviews_per_month               0.164222\n",
       "host_response_time              0.136983\n",
       "host_response_rate              0.136983\n",
       "bathrooms                       0.004191\n",
       "bedrooms                        0.001572\n",
       "host_since                      0.000524\n",
       "host_identity_verified          0.000524\n",
       "host_is_superhost               0.000524\n",
       "property_type                   0.000262\n",
       "host_id                         0.000000\n",
       "neighbourhood_group_cleansed    0.000000\n",
       "room_type                       0.000000\n",
       "accommodates                    0.000000\n",
       "guests_included                 0.000000\n",
       "minimum_nights                  0.000000\n",
       "id                              0.000000\n",
       "dtype: float64"
      ]
     },
     "execution_count": 15,
     "metadata": {},
     "output_type": "execute_result"
    }
   ],
   "source": [
    "dfListings.isna().mean().sort_values(ascending=False)"
   ]
  },
  {
   "cell_type": "code",
   "execution_count": 16,
   "metadata": {},
   "outputs": [
    {
     "data": {
      "text/plain": [
       "price         0.32939\n",
       "available     0.00000\n",
       "date          0.00000\n",
       "listing_id    0.00000\n",
       "dtype: float64"
      ]
     },
     "execution_count": 16,
     "metadata": {},
     "output_type": "execute_result"
    }
   ],
   "source": [
    "dfCalender.isna().mean().sort_values(ascending=False)"
   ]
  },
  {
   "cell_type": "markdown",
   "metadata": {},
   "source": [
    "### d. Feature Preprocessing "
   ]
  },
  {
   "cell_type": "markdown",
   "metadata": {},
   "source": [
    "##### i. Drop calender data without price values\n",
    "Since price is the target variable which we will be predicting later,we will require data with price values given."
   ]
  },
  {
   "cell_type": "code",
   "execution_count": 17,
   "metadata": {},
   "outputs": [],
   "source": [
    "dfCalender.dropna(inplace=True)"
   ]
  },
  {
   "cell_type": "code",
   "execution_count": 18,
   "metadata": {},
   "outputs": [
    {
     "data": {
      "text/html": [
       "<div>\n",
       "<style scoped>\n",
       "    .dataframe tbody tr th:only-of-type {\n",
       "        vertical-align: middle;\n",
       "    }\n",
       "\n",
       "    .dataframe tbody tr th {\n",
       "        vertical-align: top;\n",
       "    }\n",
       "\n",
       "    .dataframe thead th {\n",
       "        text-align: right;\n",
       "    }\n",
       "</style>\n",
       "<table border=\"1\" class=\"dataframe\">\n",
       "  <thead>\n",
       "    <tr style=\"text-align: right;\">\n",
       "      <th></th>\n",
       "      <th>listing_id</th>\n",
       "      <th>date</th>\n",
       "      <th>available</th>\n",
       "      <th>price</th>\n",
       "    </tr>\n",
       "  </thead>\n",
       "  <tbody>\n",
       "    <tr>\n",
       "      <th>0</th>\n",
       "      <td>241032</td>\n",
       "      <td>2016-01-04</td>\n",
       "      <td>t</td>\n",
       "      <td>$85.00</td>\n",
       "    </tr>\n",
       "    <tr>\n",
       "      <th>1</th>\n",
       "      <td>241032</td>\n",
       "      <td>2016-01-05</td>\n",
       "      <td>t</td>\n",
       "      <td>$85.00</td>\n",
       "    </tr>\n",
       "    <tr>\n",
       "      <th>9</th>\n",
       "      <td>241032</td>\n",
       "      <td>2016-01-13</td>\n",
       "      <td>t</td>\n",
       "      <td>$85.00</td>\n",
       "    </tr>\n",
       "    <tr>\n",
       "      <th>10</th>\n",
       "      <td>241032</td>\n",
       "      <td>2016-01-14</td>\n",
       "      <td>t</td>\n",
       "      <td>$85.00</td>\n",
       "    </tr>\n",
       "    <tr>\n",
       "      <th>14</th>\n",
       "      <td>241032</td>\n",
       "      <td>2016-01-18</td>\n",
       "      <td>t</td>\n",
       "      <td>$85.00</td>\n",
       "    </tr>\n",
       "  </tbody>\n",
       "</table>\n",
       "</div>"
      ],
      "text/plain": [
       "    listing_id       date available   price\n",
       "0       241032 2016-01-04         t  $85.00\n",
       "1       241032 2016-01-05         t  $85.00\n",
       "9       241032 2016-01-13         t  $85.00\n",
       "10      241032 2016-01-14         t  $85.00\n",
       "14      241032 2016-01-18         t  $85.00"
      ]
     },
     "execution_count": 18,
     "metadata": {},
     "output_type": "execute_result"
    }
   ],
   "source": [
    "dfCalender.head()"
   ]
  },
  {
   "cell_type": "markdown",
   "metadata": {},
   "source": [
    "##### ii. Change \"price\" to float, and \"available\" to boolean in Calender data"
   ]
  },
  {
   "cell_type": "code",
   "execution_count": 19,
   "metadata": {},
   "outputs": [],
   "source": [
    "dfCalender.price = dfCalender.price.str.replace('$','')"
   ]
  },
  {
   "cell_type": "code",
   "execution_count": 20,
   "metadata": {},
   "outputs": [],
   "source": [
    "dfCalender.price = dfCalender.price.str.replace(',','').astype('float')"
   ]
  },
  {
   "cell_type": "code",
   "execution_count": 21,
   "metadata": {},
   "outputs": [],
   "source": [
    "dfCalender['available'].replace({'t':1,'f':0},inplace=True)"
   ]
  },
  {
   "cell_type": "code",
   "execution_count": 22,
   "metadata": {},
   "outputs": [
    {
     "data": {
      "text/html": [
       "<div>\n",
       "<style scoped>\n",
       "    .dataframe tbody tr th:only-of-type {\n",
       "        vertical-align: middle;\n",
       "    }\n",
       "\n",
       "    .dataframe tbody tr th {\n",
       "        vertical-align: top;\n",
       "    }\n",
       "\n",
       "    .dataframe thead th {\n",
       "        text-align: right;\n",
       "    }\n",
       "</style>\n",
       "<table border=\"1\" class=\"dataframe\">\n",
       "  <thead>\n",
       "    <tr style=\"text-align: right;\">\n",
       "      <th></th>\n",
       "      <th>listing_id</th>\n",
       "      <th>date</th>\n",
       "      <th>available</th>\n",
       "      <th>price</th>\n",
       "    </tr>\n",
       "  </thead>\n",
       "  <tbody>\n",
       "    <tr>\n",
       "      <th>0</th>\n",
       "      <td>241032</td>\n",
       "      <td>2016-01-04</td>\n",
       "      <td>1</td>\n",
       "      <td>85.0</td>\n",
       "    </tr>\n",
       "    <tr>\n",
       "      <th>1</th>\n",
       "      <td>241032</td>\n",
       "      <td>2016-01-05</td>\n",
       "      <td>1</td>\n",
       "      <td>85.0</td>\n",
       "    </tr>\n",
       "    <tr>\n",
       "      <th>9</th>\n",
       "      <td>241032</td>\n",
       "      <td>2016-01-13</td>\n",
       "      <td>1</td>\n",
       "      <td>85.0</td>\n",
       "    </tr>\n",
       "    <tr>\n",
       "      <th>10</th>\n",
       "      <td>241032</td>\n",
       "      <td>2016-01-14</td>\n",
       "      <td>1</td>\n",
       "      <td>85.0</td>\n",
       "    </tr>\n",
       "    <tr>\n",
       "      <th>14</th>\n",
       "      <td>241032</td>\n",
       "      <td>2016-01-18</td>\n",
       "      <td>1</td>\n",
       "      <td>85.0</td>\n",
       "    </tr>\n",
       "  </tbody>\n",
       "</table>\n",
       "</div>"
      ],
      "text/plain": [
       "    listing_id       date  available  price\n",
       "0       241032 2016-01-04          1   85.0\n",
       "1       241032 2016-01-05          1   85.0\n",
       "9       241032 2016-01-13          1   85.0\n",
       "10      241032 2016-01-14          1   85.0\n",
       "14      241032 2016-01-18          1   85.0"
      ]
     },
     "execution_count": 22,
     "metadata": {},
     "output_type": "execute_result"
    }
   ],
   "source": [
    "dfCalender.head()"
   ]
  },
  {
   "cell_type": "markdown",
   "metadata": {},
   "source": [
    "##### iii. Listings Data : Change \"host_response_rate\", \"host_acceptance_rate\" to float, and \"host_is_superhost\" ,\" host_identity_verified\"\t to boolean)"
   ]
  },
  {
   "cell_type": "code",
   "execution_count": 23,
   "metadata": {},
   "outputs": [
    {
     "data": {
      "text/html": [
       "<div>\n",
       "<style scoped>\n",
       "    .dataframe tbody tr th:only-of-type {\n",
       "        vertical-align: middle;\n",
       "    }\n",
       "\n",
       "    .dataframe tbody tr th {\n",
       "        vertical-align: top;\n",
       "    }\n",
       "\n",
       "    .dataframe thead th {\n",
       "        text-align: right;\n",
       "    }\n",
       "</style>\n",
       "<table border=\"1\" class=\"dataframe\">\n",
       "  <thead>\n",
       "    <tr style=\"text-align: right;\">\n",
       "      <th></th>\n",
       "      <th>id</th>\n",
       "      <th>host_id</th>\n",
       "      <th>host_since</th>\n",
       "      <th>host_response_time</th>\n",
       "      <th>host_response_rate</th>\n",
       "      <th>host_acceptance_rate</th>\n",
       "      <th>host_is_superhost</th>\n",
       "      <th>host_identity_verified</th>\n",
       "      <th>neighbourhood_group_cleansed</th>\n",
       "      <th>property_type</th>\n",
       "      <th>room_type</th>\n",
       "      <th>accommodates</th>\n",
       "      <th>bathrooms</th>\n",
       "      <th>bedrooms</th>\n",
       "      <th>guests_included</th>\n",
       "      <th>minimum_nights</th>\n",
       "      <th>review_scores_rating</th>\n",
       "      <th>reviews_per_month</th>\n",
       "    </tr>\n",
       "  </thead>\n",
       "  <tbody>\n",
       "    <tr>\n",
       "      <th>0</th>\n",
       "      <td>241032</td>\n",
       "      <td>956883</td>\n",
       "      <td>2011-08-11</td>\n",
       "      <td>within a few hours</td>\n",
       "      <td>96%</td>\n",
       "      <td>100%</td>\n",
       "      <td>f</td>\n",
       "      <td>t</td>\n",
       "      <td>Queen Anne</td>\n",
       "      <td>Apartment</td>\n",
       "      <td>Entire home/apt</td>\n",
       "      <td>4</td>\n",
       "      <td>1.0</td>\n",
       "      <td>1.0</td>\n",
       "      <td>2</td>\n",
       "      <td>1</td>\n",
       "      <td>95.0</td>\n",
       "      <td>4.07</td>\n",
       "    </tr>\n",
       "    <tr>\n",
       "      <th>1</th>\n",
       "      <td>953595</td>\n",
       "      <td>5177328</td>\n",
       "      <td>2013-02-21</td>\n",
       "      <td>within an hour</td>\n",
       "      <td>98%</td>\n",
       "      <td>100%</td>\n",
       "      <td>t</td>\n",
       "      <td>t</td>\n",
       "      <td>Queen Anne</td>\n",
       "      <td>Apartment</td>\n",
       "      <td>Entire home/apt</td>\n",
       "      <td>4</td>\n",
       "      <td>1.0</td>\n",
       "      <td>1.0</td>\n",
       "      <td>1</td>\n",
       "      <td>2</td>\n",
       "      <td>96.0</td>\n",
       "      <td>1.48</td>\n",
       "    </tr>\n",
       "    <tr>\n",
       "      <th>2</th>\n",
       "      <td>3308979</td>\n",
       "      <td>16708587</td>\n",
       "      <td>2014-06-12</td>\n",
       "      <td>within a few hours</td>\n",
       "      <td>67%</td>\n",
       "      <td>100%</td>\n",
       "      <td>f</td>\n",
       "      <td>t</td>\n",
       "      <td>Queen Anne</td>\n",
       "      <td>House</td>\n",
       "      <td>Entire home/apt</td>\n",
       "      <td>11</td>\n",
       "      <td>4.5</td>\n",
       "      <td>5.0</td>\n",
       "      <td>10</td>\n",
       "      <td>4</td>\n",
       "      <td>97.0</td>\n",
       "      <td>1.15</td>\n",
       "    </tr>\n",
       "    <tr>\n",
       "      <th>3</th>\n",
       "      <td>7421966</td>\n",
       "      <td>9851441</td>\n",
       "      <td>2013-11-06</td>\n",
       "      <td>NaN</td>\n",
       "      <td>NaN</td>\n",
       "      <td>NaN</td>\n",
       "      <td>f</td>\n",
       "      <td>t</td>\n",
       "      <td>Queen Anne</td>\n",
       "      <td>Apartment</td>\n",
       "      <td>Entire home/apt</td>\n",
       "      <td>3</td>\n",
       "      <td>1.0</td>\n",
       "      <td>0.0</td>\n",
       "      <td>1</td>\n",
       "      <td>1</td>\n",
       "      <td>NaN</td>\n",
       "      <td>NaN</td>\n",
       "    </tr>\n",
       "    <tr>\n",
       "      <th>4</th>\n",
       "      <td>278830</td>\n",
       "      <td>1452570</td>\n",
       "      <td>2011-11-29</td>\n",
       "      <td>within an hour</td>\n",
       "      <td>100%</td>\n",
       "      <td>NaN</td>\n",
       "      <td>f</td>\n",
       "      <td>t</td>\n",
       "      <td>Queen Anne</td>\n",
       "      <td>House</td>\n",
       "      <td>Entire home/apt</td>\n",
       "      <td>6</td>\n",
       "      <td>2.0</td>\n",
       "      <td>3.0</td>\n",
       "      <td>6</td>\n",
       "      <td>1</td>\n",
       "      <td>92.0</td>\n",
       "      <td>0.89</td>\n",
       "    </tr>\n",
       "  </tbody>\n",
       "</table>\n",
       "</div>"
      ],
      "text/plain": [
       "        id   host_id  host_since  host_response_time host_response_rate  \\\n",
       "0   241032    956883  2011-08-11  within a few hours                96%   \n",
       "1   953595   5177328  2013-02-21      within an hour                98%   \n",
       "2  3308979  16708587  2014-06-12  within a few hours                67%   \n",
       "3  7421966   9851441  2013-11-06                 NaN                NaN   \n",
       "4   278830   1452570  2011-11-29      within an hour               100%   \n",
       "\n",
       "  host_acceptance_rate host_is_superhost host_identity_verified  \\\n",
       "0                 100%                 f                      t   \n",
       "1                 100%                 t                      t   \n",
       "2                 100%                 f                      t   \n",
       "3                  NaN                 f                      t   \n",
       "4                  NaN                 f                      t   \n",
       "\n",
       "  neighbourhood_group_cleansed property_type        room_type  accommodates  \\\n",
       "0                   Queen Anne     Apartment  Entire home/apt             4   \n",
       "1                   Queen Anne     Apartment  Entire home/apt             4   \n",
       "2                   Queen Anne         House  Entire home/apt            11   \n",
       "3                   Queen Anne     Apartment  Entire home/apt             3   \n",
       "4                   Queen Anne         House  Entire home/apt             6   \n",
       "\n",
       "   bathrooms  bedrooms  guests_included  minimum_nights  review_scores_rating  \\\n",
       "0        1.0       1.0                2               1                  95.0   \n",
       "1        1.0       1.0                1               2                  96.0   \n",
       "2        4.5       5.0               10               4                  97.0   \n",
       "3        1.0       0.0                1               1                   NaN   \n",
       "4        2.0       3.0                6               1                  92.0   \n",
       "\n",
       "   reviews_per_month  \n",
       "0               4.07  \n",
       "1               1.48  \n",
       "2               1.15  \n",
       "3                NaN  \n",
       "4               0.89  "
      ]
     },
     "execution_count": 23,
     "metadata": {},
     "output_type": "execute_result"
    }
   ],
   "source": [
    "dfListings.head()"
   ]
  },
  {
   "cell_type": "code",
   "execution_count": 24,
   "metadata": {},
   "outputs": [],
   "source": [
    "dfListings['host_acceptance_rate'] = dfListings['host_acceptance_rate'].str.replace('%','').astype('float')"
   ]
  },
  {
   "cell_type": "code",
   "execution_count": 25,
   "metadata": {},
   "outputs": [],
   "source": [
    "dfListings['host_response_rate'] = dfListings['host_response_rate'].str.replace('%','').astype('float')"
   ]
  },
  {
   "cell_type": "code",
   "execution_count": 26,
   "metadata": {},
   "outputs": [],
   "source": [
    "dfListings['host_is_superhost'].replace({'f':0,'t':1},inplace=True)"
   ]
  },
  {
   "cell_type": "code",
   "execution_count": 27,
   "metadata": {},
   "outputs": [],
   "source": [
    "dfListings['host_identity_verified'].replace({'f':0,'t':1},inplace=True)"
   ]
  },
  {
   "cell_type": "code",
   "execution_count": 28,
   "metadata": {},
   "outputs": [
    {
     "data": {
      "text/html": [
       "<div>\n",
       "<style scoped>\n",
       "    .dataframe tbody tr th:only-of-type {\n",
       "        vertical-align: middle;\n",
       "    }\n",
       "\n",
       "    .dataframe tbody tr th {\n",
       "        vertical-align: top;\n",
       "    }\n",
       "\n",
       "    .dataframe thead th {\n",
       "        text-align: right;\n",
       "    }\n",
       "</style>\n",
       "<table border=\"1\" class=\"dataframe\">\n",
       "  <thead>\n",
       "    <tr style=\"text-align: right;\">\n",
       "      <th></th>\n",
       "      <th>id</th>\n",
       "      <th>host_id</th>\n",
       "      <th>host_since</th>\n",
       "      <th>host_response_time</th>\n",
       "      <th>host_response_rate</th>\n",
       "      <th>host_acceptance_rate</th>\n",
       "      <th>host_is_superhost</th>\n",
       "      <th>host_identity_verified</th>\n",
       "      <th>neighbourhood_group_cleansed</th>\n",
       "      <th>property_type</th>\n",
       "      <th>room_type</th>\n",
       "      <th>accommodates</th>\n",
       "      <th>bathrooms</th>\n",
       "      <th>bedrooms</th>\n",
       "      <th>guests_included</th>\n",
       "      <th>minimum_nights</th>\n",
       "      <th>review_scores_rating</th>\n",
       "      <th>reviews_per_month</th>\n",
       "    </tr>\n",
       "  </thead>\n",
       "  <tbody>\n",
       "    <tr>\n",
       "      <th>0</th>\n",
       "      <td>241032</td>\n",
       "      <td>956883</td>\n",
       "      <td>2011-08-11</td>\n",
       "      <td>within a few hours</td>\n",
       "      <td>96.0</td>\n",
       "      <td>100.0</td>\n",
       "      <td>0.0</td>\n",
       "      <td>1.0</td>\n",
       "      <td>Queen Anne</td>\n",
       "      <td>Apartment</td>\n",
       "      <td>Entire home/apt</td>\n",
       "      <td>4</td>\n",
       "      <td>1.0</td>\n",
       "      <td>1.0</td>\n",
       "      <td>2</td>\n",
       "      <td>1</td>\n",
       "      <td>95.0</td>\n",
       "      <td>4.07</td>\n",
       "    </tr>\n",
       "    <tr>\n",
       "      <th>1</th>\n",
       "      <td>953595</td>\n",
       "      <td>5177328</td>\n",
       "      <td>2013-02-21</td>\n",
       "      <td>within an hour</td>\n",
       "      <td>98.0</td>\n",
       "      <td>100.0</td>\n",
       "      <td>1.0</td>\n",
       "      <td>1.0</td>\n",
       "      <td>Queen Anne</td>\n",
       "      <td>Apartment</td>\n",
       "      <td>Entire home/apt</td>\n",
       "      <td>4</td>\n",
       "      <td>1.0</td>\n",
       "      <td>1.0</td>\n",
       "      <td>1</td>\n",
       "      <td>2</td>\n",
       "      <td>96.0</td>\n",
       "      <td>1.48</td>\n",
       "    </tr>\n",
       "    <tr>\n",
       "      <th>2</th>\n",
       "      <td>3308979</td>\n",
       "      <td>16708587</td>\n",
       "      <td>2014-06-12</td>\n",
       "      <td>within a few hours</td>\n",
       "      <td>67.0</td>\n",
       "      <td>100.0</td>\n",
       "      <td>0.0</td>\n",
       "      <td>1.0</td>\n",
       "      <td>Queen Anne</td>\n",
       "      <td>House</td>\n",
       "      <td>Entire home/apt</td>\n",
       "      <td>11</td>\n",
       "      <td>4.5</td>\n",
       "      <td>5.0</td>\n",
       "      <td>10</td>\n",
       "      <td>4</td>\n",
       "      <td>97.0</td>\n",
       "      <td>1.15</td>\n",
       "    </tr>\n",
       "    <tr>\n",
       "      <th>3</th>\n",
       "      <td>7421966</td>\n",
       "      <td>9851441</td>\n",
       "      <td>2013-11-06</td>\n",
       "      <td>NaN</td>\n",
       "      <td>NaN</td>\n",
       "      <td>NaN</td>\n",
       "      <td>0.0</td>\n",
       "      <td>1.0</td>\n",
       "      <td>Queen Anne</td>\n",
       "      <td>Apartment</td>\n",
       "      <td>Entire home/apt</td>\n",
       "      <td>3</td>\n",
       "      <td>1.0</td>\n",
       "      <td>0.0</td>\n",
       "      <td>1</td>\n",
       "      <td>1</td>\n",
       "      <td>NaN</td>\n",
       "      <td>NaN</td>\n",
       "    </tr>\n",
       "    <tr>\n",
       "      <th>4</th>\n",
       "      <td>278830</td>\n",
       "      <td>1452570</td>\n",
       "      <td>2011-11-29</td>\n",
       "      <td>within an hour</td>\n",
       "      <td>100.0</td>\n",
       "      <td>NaN</td>\n",
       "      <td>0.0</td>\n",
       "      <td>1.0</td>\n",
       "      <td>Queen Anne</td>\n",
       "      <td>House</td>\n",
       "      <td>Entire home/apt</td>\n",
       "      <td>6</td>\n",
       "      <td>2.0</td>\n",
       "      <td>3.0</td>\n",
       "      <td>6</td>\n",
       "      <td>1</td>\n",
       "      <td>92.0</td>\n",
       "      <td>0.89</td>\n",
       "    </tr>\n",
       "  </tbody>\n",
       "</table>\n",
       "</div>"
      ],
      "text/plain": [
       "        id   host_id  host_since  host_response_time  host_response_rate  \\\n",
       "0   241032    956883  2011-08-11  within a few hours                96.0   \n",
       "1   953595   5177328  2013-02-21      within an hour                98.0   \n",
       "2  3308979  16708587  2014-06-12  within a few hours                67.0   \n",
       "3  7421966   9851441  2013-11-06                 NaN                 NaN   \n",
       "4   278830   1452570  2011-11-29      within an hour               100.0   \n",
       "\n",
       "   host_acceptance_rate  host_is_superhost  host_identity_verified  \\\n",
       "0                 100.0                0.0                     1.0   \n",
       "1                 100.0                1.0                     1.0   \n",
       "2                 100.0                0.0                     1.0   \n",
       "3                   NaN                0.0                     1.0   \n",
       "4                   NaN                0.0                     1.0   \n",
       "\n",
       "  neighbourhood_group_cleansed property_type        room_type  accommodates  \\\n",
       "0                   Queen Anne     Apartment  Entire home/apt             4   \n",
       "1                   Queen Anne     Apartment  Entire home/apt             4   \n",
       "2                   Queen Anne         House  Entire home/apt            11   \n",
       "3                   Queen Anne     Apartment  Entire home/apt             3   \n",
       "4                   Queen Anne         House  Entire home/apt             6   \n",
       "\n",
       "   bathrooms  bedrooms  guests_included  minimum_nights  review_scores_rating  \\\n",
       "0        1.0       1.0                2               1                  95.0   \n",
       "1        1.0       1.0                1               2                  96.0   \n",
       "2        4.5       5.0               10               4                  97.0   \n",
       "3        1.0       0.0                1               1                   NaN   \n",
       "4        2.0       3.0                6               1                  92.0   \n",
       "\n",
       "   reviews_per_month  \n",
       "0               4.07  \n",
       "1               1.48  \n",
       "2               1.15  \n",
       "3                NaN  \n",
       "4               0.89  "
      ]
     },
     "execution_count": 28,
     "metadata": {},
     "output_type": "execute_result"
    }
   ],
   "source": [
    "dfListings.head()"
   ]
  },
  {
   "cell_type": "markdown",
   "metadata": {},
   "source": [
    "### e. Correlation of Price with various features"
   ]
  },
  {
   "cell_type": "markdown",
   "metadata": {},
   "source": [
    "##### i. Combine the dataframes to capture price in conjunction with other variations"
   ]
  },
  {
   "cell_type": "code",
   "execution_count": 29,
   "metadata": {},
   "outputs": [],
   "source": [
    "dfListings.rename(columns={'id':'listing_id'},inplace=True)"
   ]
  },
  {
   "cell_type": "code",
   "execution_count": 30,
   "metadata": {},
   "outputs": [],
   "source": [
    "dfCombined = pd.merge(dfListings,dfCalender)"
   ]
  },
  {
   "cell_type": "code",
   "execution_count": 31,
   "metadata": {},
   "outputs": [
    {
     "data": {
      "text/html": [
       "<div>\n",
       "<style scoped>\n",
       "    .dataframe tbody tr th:only-of-type {\n",
       "        vertical-align: middle;\n",
       "    }\n",
       "\n",
       "    .dataframe tbody tr th {\n",
       "        vertical-align: top;\n",
       "    }\n",
       "\n",
       "    .dataframe thead th {\n",
       "        text-align: right;\n",
       "    }\n",
       "</style>\n",
       "<table border=\"1\" class=\"dataframe\">\n",
       "  <thead>\n",
       "    <tr style=\"text-align: right;\">\n",
       "      <th></th>\n",
       "      <th>listing_id</th>\n",
       "      <th>host_id</th>\n",
       "      <th>host_since</th>\n",
       "      <th>host_response_time</th>\n",
       "      <th>host_response_rate</th>\n",
       "      <th>host_acceptance_rate</th>\n",
       "      <th>host_is_superhost</th>\n",
       "      <th>host_identity_verified</th>\n",
       "      <th>neighbourhood_group_cleansed</th>\n",
       "      <th>property_type</th>\n",
       "      <th>room_type</th>\n",
       "      <th>accommodates</th>\n",
       "      <th>bathrooms</th>\n",
       "      <th>bedrooms</th>\n",
       "      <th>guests_included</th>\n",
       "      <th>minimum_nights</th>\n",
       "      <th>review_scores_rating</th>\n",
       "      <th>reviews_per_month</th>\n",
       "      <th>date</th>\n",
       "      <th>available</th>\n",
       "      <th>price</th>\n",
       "    </tr>\n",
       "  </thead>\n",
       "  <tbody>\n",
       "    <tr>\n",
       "      <th>0</th>\n",
       "      <td>241032</td>\n",
       "      <td>956883</td>\n",
       "      <td>2011-08-11</td>\n",
       "      <td>within a few hours</td>\n",
       "      <td>96.0</td>\n",
       "      <td>100.0</td>\n",
       "      <td>0.0</td>\n",
       "      <td>1.0</td>\n",
       "      <td>Queen Anne</td>\n",
       "      <td>Apartment</td>\n",
       "      <td>Entire home/apt</td>\n",
       "      <td>4</td>\n",
       "      <td>1.0</td>\n",
       "      <td>1.0</td>\n",
       "      <td>2</td>\n",
       "      <td>1</td>\n",
       "      <td>95.0</td>\n",
       "      <td>4.07</td>\n",
       "      <td>2016-01-04</td>\n",
       "      <td>1</td>\n",
       "      <td>85.0</td>\n",
       "    </tr>\n",
       "    <tr>\n",
       "      <th>1</th>\n",
       "      <td>241032</td>\n",
       "      <td>956883</td>\n",
       "      <td>2011-08-11</td>\n",
       "      <td>within a few hours</td>\n",
       "      <td>96.0</td>\n",
       "      <td>100.0</td>\n",
       "      <td>0.0</td>\n",
       "      <td>1.0</td>\n",
       "      <td>Queen Anne</td>\n",
       "      <td>Apartment</td>\n",
       "      <td>Entire home/apt</td>\n",
       "      <td>4</td>\n",
       "      <td>1.0</td>\n",
       "      <td>1.0</td>\n",
       "      <td>2</td>\n",
       "      <td>1</td>\n",
       "      <td>95.0</td>\n",
       "      <td>4.07</td>\n",
       "      <td>2016-01-05</td>\n",
       "      <td>1</td>\n",
       "      <td>85.0</td>\n",
       "    </tr>\n",
       "    <tr>\n",
       "      <th>2</th>\n",
       "      <td>241032</td>\n",
       "      <td>956883</td>\n",
       "      <td>2011-08-11</td>\n",
       "      <td>within a few hours</td>\n",
       "      <td>96.0</td>\n",
       "      <td>100.0</td>\n",
       "      <td>0.0</td>\n",
       "      <td>1.0</td>\n",
       "      <td>Queen Anne</td>\n",
       "      <td>Apartment</td>\n",
       "      <td>Entire home/apt</td>\n",
       "      <td>4</td>\n",
       "      <td>1.0</td>\n",
       "      <td>1.0</td>\n",
       "      <td>2</td>\n",
       "      <td>1</td>\n",
       "      <td>95.0</td>\n",
       "      <td>4.07</td>\n",
       "      <td>2016-01-13</td>\n",
       "      <td>1</td>\n",
       "      <td>85.0</td>\n",
       "    </tr>\n",
       "    <tr>\n",
       "      <th>3</th>\n",
       "      <td>241032</td>\n",
       "      <td>956883</td>\n",
       "      <td>2011-08-11</td>\n",
       "      <td>within a few hours</td>\n",
       "      <td>96.0</td>\n",
       "      <td>100.0</td>\n",
       "      <td>0.0</td>\n",
       "      <td>1.0</td>\n",
       "      <td>Queen Anne</td>\n",
       "      <td>Apartment</td>\n",
       "      <td>Entire home/apt</td>\n",
       "      <td>4</td>\n",
       "      <td>1.0</td>\n",
       "      <td>1.0</td>\n",
       "      <td>2</td>\n",
       "      <td>1</td>\n",
       "      <td>95.0</td>\n",
       "      <td>4.07</td>\n",
       "      <td>2016-01-14</td>\n",
       "      <td>1</td>\n",
       "      <td>85.0</td>\n",
       "    </tr>\n",
       "    <tr>\n",
       "      <th>4</th>\n",
       "      <td>241032</td>\n",
       "      <td>956883</td>\n",
       "      <td>2011-08-11</td>\n",
       "      <td>within a few hours</td>\n",
       "      <td>96.0</td>\n",
       "      <td>100.0</td>\n",
       "      <td>0.0</td>\n",
       "      <td>1.0</td>\n",
       "      <td>Queen Anne</td>\n",
       "      <td>Apartment</td>\n",
       "      <td>Entire home/apt</td>\n",
       "      <td>4</td>\n",
       "      <td>1.0</td>\n",
       "      <td>1.0</td>\n",
       "      <td>2</td>\n",
       "      <td>1</td>\n",
       "      <td>95.0</td>\n",
       "      <td>4.07</td>\n",
       "      <td>2016-01-18</td>\n",
       "      <td>1</td>\n",
       "      <td>85.0</td>\n",
       "    </tr>\n",
       "  </tbody>\n",
       "</table>\n",
       "</div>"
      ],
      "text/plain": [
       "   listing_id  host_id  host_since  host_response_time  host_response_rate  \\\n",
       "0      241032   956883  2011-08-11  within a few hours                96.0   \n",
       "1      241032   956883  2011-08-11  within a few hours                96.0   \n",
       "2      241032   956883  2011-08-11  within a few hours                96.0   \n",
       "3      241032   956883  2011-08-11  within a few hours                96.0   \n",
       "4      241032   956883  2011-08-11  within a few hours                96.0   \n",
       "\n",
       "   host_acceptance_rate  host_is_superhost  host_identity_verified  \\\n",
       "0                 100.0                0.0                     1.0   \n",
       "1                 100.0                0.0                     1.0   \n",
       "2                 100.0                0.0                     1.0   \n",
       "3                 100.0                0.0                     1.0   \n",
       "4                 100.0                0.0                     1.0   \n",
       "\n",
       "  neighbourhood_group_cleansed property_type        room_type  accommodates  \\\n",
       "0                   Queen Anne     Apartment  Entire home/apt             4   \n",
       "1                   Queen Anne     Apartment  Entire home/apt             4   \n",
       "2                   Queen Anne     Apartment  Entire home/apt             4   \n",
       "3                   Queen Anne     Apartment  Entire home/apt             4   \n",
       "4                   Queen Anne     Apartment  Entire home/apt             4   \n",
       "\n",
       "   bathrooms  bedrooms  guests_included  minimum_nights  review_scores_rating  \\\n",
       "0        1.0       1.0                2               1                  95.0   \n",
       "1        1.0       1.0                2               1                  95.0   \n",
       "2        1.0       1.0                2               1                  95.0   \n",
       "3        1.0       1.0                2               1                  95.0   \n",
       "4        1.0       1.0                2               1                  95.0   \n",
       "\n",
       "   reviews_per_month       date  available  price  \n",
       "0               4.07 2016-01-04          1   85.0  \n",
       "1               4.07 2016-01-05          1   85.0  \n",
       "2               4.07 2016-01-13          1   85.0  \n",
       "3               4.07 2016-01-14          1   85.0  \n",
       "4               4.07 2016-01-18          1   85.0  "
      ]
     },
     "execution_count": 31,
     "metadata": {},
     "output_type": "execute_result"
    }
   ],
   "source": [
    "dfCombined.head()"
   ]
  },
  {
   "cell_type": "markdown",
   "metadata": {},
   "source": [
    "##### ii. Extract month and year from date and drop date column"
   ]
  },
  {
   "cell_type": "code",
   "execution_count": 32,
   "metadata": {},
   "outputs": [],
   "source": [
    "dfCombined['month'] = dfCombined['date'].dt.month"
   ]
  },
  {
   "cell_type": "code",
   "execution_count": 33,
   "metadata": {},
   "outputs": [],
   "source": [
    "dfCombined['year'] = dfCombined['date'].dt.year"
   ]
  },
  {
   "cell_type": "code",
   "execution_count": 34,
   "metadata": {},
   "outputs": [
    {
     "data": {
      "text/html": [
       "<div>\n",
       "<style scoped>\n",
       "    .dataframe tbody tr th:only-of-type {\n",
       "        vertical-align: middle;\n",
       "    }\n",
       "\n",
       "    .dataframe tbody tr th {\n",
       "        vertical-align: top;\n",
       "    }\n",
       "\n",
       "    .dataframe thead th {\n",
       "        text-align: right;\n",
       "    }\n",
       "</style>\n",
       "<table border=\"1\" class=\"dataframe\">\n",
       "  <thead>\n",
       "    <tr style=\"text-align: right;\">\n",
       "      <th></th>\n",
       "      <th>listing_id</th>\n",
       "      <th>host_id</th>\n",
       "      <th>host_since</th>\n",
       "      <th>host_response_time</th>\n",
       "      <th>host_response_rate</th>\n",
       "      <th>host_acceptance_rate</th>\n",
       "      <th>host_is_superhost</th>\n",
       "      <th>host_identity_verified</th>\n",
       "      <th>neighbourhood_group_cleansed</th>\n",
       "      <th>property_type</th>\n",
       "      <th>room_type</th>\n",
       "      <th>accommodates</th>\n",
       "      <th>bathrooms</th>\n",
       "      <th>bedrooms</th>\n",
       "      <th>guests_included</th>\n",
       "      <th>minimum_nights</th>\n",
       "      <th>review_scores_rating</th>\n",
       "      <th>reviews_per_month</th>\n",
       "      <th>date</th>\n",
       "      <th>available</th>\n",
       "      <th>price</th>\n",
       "      <th>month</th>\n",
       "      <th>year</th>\n",
       "    </tr>\n",
       "  </thead>\n",
       "  <tbody>\n",
       "    <tr>\n",
       "      <th>0</th>\n",
       "      <td>241032</td>\n",
       "      <td>956883</td>\n",
       "      <td>2011-08-11</td>\n",
       "      <td>within a few hours</td>\n",
       "      <td>96.0</td>\n",
       "      <td>100.0</td>\n",
       "      <td>0.0</td>\n",
       "      <td>1.0</td>\n",
       "      <td>Queen Anne</td>\n",
       "      <td>Apartment</td>\n",
       "      <td>Entire home/apt</td>\n",
       "      <td>4</td>\n",
       "      <td>1.0</td>\n",
       "      <td>1.0</td>\n",
       "      <td>2</td>\n",
       "      <td>1</td>\n",
       "      <td>95.0</td>\n",
       "      <td>4.07</td>\n",
       "      <td>2016-01-04</td>\n",
       "      <td>1</td>\n",
       "      <td>85.0</td>\n",
       "      <td>1</td>\n",
       "      <td>2016</td>\n",
       "    </tr>\n",
       "    <tr>\n",
       "      <th>1</th>\n",
       "      <td>241032</td>\n",
       "      <td>956883</td>\n",
       "      <td>2011-08-11</td>\n",
       "      <td>within a few hours</td>\n",
       "      <td>96.0</td>\n",
       "      <td>100.0</td>\n",
       "      <td>0.0</td>\n",
       "      <td>1.0</td>\n",
       "      <td>Queen Anne</td>\n",
       "      <td>Apartment</td>\n",
       "      <td>Entire home/apt</td>\n",
       "      <td>4</td>\n",
       "      <td>1.0</td>\n",
       "      <td>1.0</td>\n",
       "      <td>2</td>\n",
       "      <td>1</td>\n",
       "      <td>95.0</td>\n",
       "      <td>4.07</td>\n",
       "      <td>2016-01-05</td>\n",
       "      <td>1</td>\n",
       "      <td>85.0</td>\n",
       "      <td>1</td>\n",
       "      <td>2016</td>\n",
       "    </tr>\n",
       "    <tr>\n",
       "      <th>2</th>\n",
       "      <td>241032</td>\n",
       "      <td>956883</td>\n",
       "      <td>2011-08-11</td>\n",
       "      <td>within a few hours</td>\n",
       "      <td>96.0</td>\n",
       "      <td>100.0</td>\n",
       "      <td>0.0</td>\n",
       "      <td>1.0</td>\n",
       "      <td>Queen Anne</td>\n",
       "      <td>Apartment</td>\n",
       "      <td>Entire home/apt</td>\n",
       "      <td>4</td>\n",
       "      <td>1.0</td>\n",
       "      <td>1.0</td>\n",
       "      <td>2</td>\n",
       "      <td>1</td>\n",
       "      <td>95.0</td>\n",
       "      <td>4.07</td>\n",
       "      <td>2016-01-13</td>\n",
       "      <td>1</td>\n",
       "      <td>85.0</td>\n",
       "      <td>1</td>\n",
       "      <td>2016</td>\n",
       "    </tr>\n",
       "    <tr>\n",
       "      <th>3</th>\n",
       "      <td>241032</td>\n",
       "      <td>956883</td>\n",
       "      <td>2011-08-11</td>\n",
       "      <td>within a few hours</td>\n",
       "      <td>96.0</td>\n",
       "      <td>100.0</td>\n",
       "      <td>0.0</td>\n",
       "      <td>1.0</td>\n",
       "      <td>Queen Anne</td>\n",
       "      <td>Apartment</td>\n",
       "      <td>Entire home/apt</td>\n",
       "      <td>4</td>\n",
       "      <td>1.0</td>\n",
       "      <td>1.0</td>\n",
       "      <td>2</td>\n",
       "      <td>1</td>\n",
       "      <td>95.0</td>\n",
       "      <td>4.07</td>\n",
       "      <td>2016-01-14</td>\n",
       "      <td>1</td>\n",
       "      <td>85.0</td>\n",
       "      <td>1</td>\n",
       "      <td>2016</td>\n",
       "    </tr>\n",
       "    <tr>\n",
       "      <th>4</th>\n",
       "      <td>241032</td>\n",
       "      <td>956883</td>\n",
       "      <td>2011-08-11</td>\n",
       "      <td>within a few hours</td>\n",
       "      <td>96.0</td>\n",
       "      <td>100.0</td>\n",
       "      <td>0.0</td>\n",
       "      <td>1.0</td>\n",
       "      <td>Queen Anne</td>\n",
       "      <td>Apartment</td>\n",
       "      <td>Entire home/apt</td>\n",
       "      <td>4</td>\n",
       "      <td>1.0</td>\n",
       "      <td>1.0</td>\n",
       "      <td>2</td>\n",
       "      <td>1</td>\n",
       "      <td>95.0</td>\n",
       "      <td>4.07</td>\n",
       "      <td>2016-01-18</td>\n",
       "      <td>1</td>\n",
       "      <td>85.0</td>\n",
       "      <td>1</td>\n",
       "      <td>2016</td>\n",
       "    </tr>\n",
       "  </tbody>\n",
       "</table>\n",
       "</div>"
      ],
      "text/plain": [
       "   listing_id  host_id  host_since  host_response_time  host_response_rate  \\\n",
       "0      241032   956883  2011-08-11  within a few hours                96.0   \n",
       "1      241032   956883  2011-08-11  within a few hours                96.0   \n",
       "2      241032   956883  2011-08-11  within a few hours                96.0   \n",
       "3      241032   956883  2011-08-11  within a few hours                96.0   \n",
       "4      241032   956883  2011-08-11  within a few hours                96.0   \n",
       "\n",
       "   host_acceptance_rate  host_is_superhost  host_identity_verified  \\\n",
       "0                 100.0                0.0                     1.0   \n",
       "1                 100.0                0.0                     1.0   \n",
       "2                 100.0                0.0                     1.0   \n",
       "3                 100.0                0.0                     1.0   \n",
       "4                 100.0                0.0                     1.0   \n",
       "\n",
       "  neighbourhood_group_cleansed property_type        room_type  accommodates  \\\n",
       "0                   Queen Anne     Apartment  Entire home/apt             4   \n",
       "1                   Queen Anne     Apartment  Entire home/apt             4   \n",
       "2                   Queen Anne     Apartment  Entire home/apt             4   \n",
       "3                   Queen Anne     Apartment  Entire home/apt             4   \n",
       "4                   Queen Anne     Apartment  Entire home/apt             4   \n",
       "\n",
       "   bathrooms  bedrooms  guests_included  minimum_nights  review_scores_rating  \\\n",
       "0        1.0       1.0                2               1                  95.0   \n",
       "1        1.0       1.0                2               1                  95.0   \n",
       "2        1.0       1.0                2               1                  95.0   \n",
       "3        1.0       1.0                2               1                  95.0   \n",
       "4        1.0       1.0                2               1                  95.0   \n",
       "\n",
       "   reviews_per_month       date  available  price  month  year  \n",
       "0               4.07 2016-01-04          1   85.0      1  2016  \n",
       "1               4.07 2016-01-05          1   85.0      1  2016  \n",
       "2               4.07 2016-01-13          1   85.0      1  2016  \n",
       "3               4.07 2016-01-14          1   85.0      1  2016  \n",
       "4               4.07 2016-01-18          1   85.0      1  2016  "
      ]
     },
     "execution_count": 34,
     "metadata": {},
     "output_type": "execute_result"
    }
   ],
   "source": [
    "dfCombined.head()"
   ]
  },
  {
   "cell_type": "code",
   "execution_count": 35,
   "metadata": {},
   "outputs": [],
   "source": [
    "dfCombined.drop(['date'],axis=1,inplace=True)"
   ]
  },
  {
   "cell_type": "markdown",
   "metadata": {},
   "source": [
    "##### iii. Convert host_since to datetime object"
   ]
  },
  {
   "cell_type": "code",
   "execution_count": 36,
   "metadata": {},
   "outputs": [],
   "source": [
    "dfCombined['host_since'] = pd.to_datetime(dfCombined['host_since'],errors='coerce')"
   ]
  },
  {
   "cell_type": "code",
   "execution_count": 37,
   "metadata": {},
   "outputs": [
    {
     "data": {
      "text/html": [
       "<div>\n",
       "<style scoped>\n",
       "    .dataframe tbody tr th:only-of-type {\n",
       "        vertical-align: middle;\n",
       "    }\n",
       "\n",
       "    .dataframe tbody tr th {\n",
       "        vertical-align: top;\n",
       "    }\n",
       "\n",
       "    .dataframe thead th {\n",
       "        text-align: right;\n",
       "    }\n",
       "</style>\n",
       "<table border=\"1\" class=\"dataframe\">\n",
       "  <thead>\n",
       "    <tr style=\"text-align: right;\">\n",
       "      <th></th>\n",
       "      <th>listing_id</th>\n",
       "      <th>host_id</th>\n",
       "      <th>host_since</th>\n",
       "      <th>host_response_time</th>\n",
       "      <th>host_response_rate</th>\n",
       "      <th>host_acceptance_rate</th>\n",
       "      <th>host_is_superhost</th>\n",
       "      <th>host_identity_verified</th>\n",
       "      <th>neighbourhood_group_cleansed</th>\n",
       "      <th>property_type</th>\n",
       "      <th>room_type</th>\n",
       "      <th>accommodates</th>\n",
       "      <th>bathrooms</th>\n",
       "      <th>bedrooms</th>\n",
       "      <th>guests_included</th>\n",
       "      <th>minimum_nights</th>\n",
       "      <th>review_scores_rating</th>\n",
       "      <th>reviews_per_month</th>\n",
       "      <th>available</th>\n",
       "      <th>price</th>\n",
       "      <th>month</th>\n",
       "      <th>year</th>\n",
       "    </tr>\n",
       "  </thead>\n",
       "  <tbody>\n",
       "    <tr>\n",
       "      <th>0</th>\n",
       "      <td>241032</td>\n",
       "      <td>956883</td>\n",
       "      <td>2011-08-11</td>\n",
       "      <td>within a few hours</td>\n",
       "      <td>96.0</td>\n",
       "      <td>100.0</td>\n",
       "      <td>0.0</td>\n",
       "      <td>1.0</td>\n",
       "      <td>Queen Anne</td>\n",
       "      <td>Apartment</td>\n",
       "      <td>Entire home/apt</td>\n",
       "      <td>4</td>\n",
       "      <td>1.0</td>\n",
       "      <td>1.0</td>\n",
       "      <td>2</td>\n",
       "      <td>1</td>\n",
       "      <td>95.0</td>\n",
       "      <td>4.07</td>\n",
       "      <td>1</td>\n",
       "      <td>85.0</td>\n",
       "      <td>1</td>\n",
       "      <td>2016</td>\n",
       "    </tr>\n",
       "    <tr>\n",
       "      <th>1</th>\n",
       "      <td>241032</td>\n",
       "      <td>956883</td>\n",
       "      <td>2011-08-11</td>\n",
       "      <td>within a few hours</td>\n",
       "      <td>96.0</td>\n",
       "      <td>100.0</td>\n",
       "      <td>0.0</td>\n",
       "      <td>1.0</td>\n",
       "      <td>Queen Anne</td>\n",
       "      <td>Apartment</td>\n",
       "      <td>Entire home/apt</td>\n",
       "      <td>4</td>\n",
       "      <td>1.0</td>\n",
       "      <td>1.0</td>\n",
       "      <td>2</td>\n",
       "      <td>1</td>\n",
       "      <td>95.0</td>\n",
       "      <td>4.07</td>\n",
       "      <td>1</td>\n",
       "      <td>85.0</td>\n",
       "      <td>1</td>\n",
       "      <td>2016</td>\n",
       "    </tr>\n",
       "    <tr>\n",
       "      <th>2</th>\n",
       "      <td>241032</td>\n",
       "      <td>956883</td>\n",
       "      <td>2011-08-11</td>\n",
       "      <td>within a few hours</td>\n",
       "      <td>96.0</td>\n",
       "      <td>100.0</td>\n",
       "      <td>0.0</td>\n",
       "      <td>1.0</td>\n",
       "      <td>Queen Anne</td>\n",
       "      <td>Apartment</td>\n",
       "      <td>Entire home/apt</td>\n",
       "      <td>4</td>\n",
       "      <td>1.0</td>\n",
       "      <td>1.0</td>\n",
       "      <td>2</td>\n",
       "      <td>1</td>\n",
       "      <td>95.0</td>\n",
       "      <td>4.07</td>\n",
       "      <td>1</td>\n",
       "      <td>85.0</td>\n",
       "      <td>1</td>\n",
       "      <td>2016</td>\n",
       "    </tr>\n",
       "    <tr>\n",
       "      <th>3</th>\n",
       "      <td>241032</td>\n",
       "      <td>956883</td>\n",
       "      <td>2011-08-11</td>\n",
       "      <td>within a few hours</td>\n",
       "      <td>96.0</td>\n",
       "      <td>100.0</td>\n",
       "      <td>0.0</td>\n",
       "      <td>1.0</td>\n",
       "      <td>Queen Anne</td>\n",
       "      <td>Apartment</td>\n",
       "      <td>Entire home/apt</td>\n",
       "      <td>4</td>\n",
       "      <td>1.0</td>\n",
       "      <td>1.0</td>\n",
       "      <td>2</td>\n",
       "      <td>1</td>\n",
       "      <td>95.0</td>\n",
       "      <td>4.07</td>\n",
       "      <td>1</td>\n",
       "      <td>85.0</td>\n",
       "      <td>1</td>\n",
       "      <td>2016</td>\n",
       "    </tr>\n",
       "    <tr>\n",
       "      <th>4</th>\n",
       "      <td>241032</td>\n",
       "      <td>956883</td>\n",
       "      <td>2011-08-11</td>\n",
       "      <td>within a few hours</td>\n",
       "      <td>96.0</td>\n",
       "      <td>100.0</td>\n",
       "      <td>0.0</td>\n",
       "      <td>1.0</td>\n",
       "      <td>Queen Anne</td>\n",
       "      <td>Apartment</td>\n",
       "      <td>Entire home/apt</td>\n",
       "      <td>4</td>\n",
       "      <td>1.0</td>\n",
       "      <td>1.0</td>\n",
       "      <td>2</td>\n",
       "      <td>1</td>\n",
       "      <td>95.0</td>\n",
       "      <td>4.07</td>\n",
       "      <td>1</td>\n",
       "      <td>85.0</td>\n",
       "      <td>1</td>\n",
       "      <td>2016</td>\n",
       "    </tr>\n",
       "  </tbody>\n",
       "</table>\n",
       "</div>"
      ],
      "text/plain": [
       "   listing_id  host_id host_since  host_response_time  host_response_rate  \\\n",
       "0      241032   956883 2011-08-11  within a few hours                96.0   \n",
       "1      241032   956883 2011-08-11  within a few hours                96.0   \n",
       "2      241032   956883 2011-08-11  within a few hours                96.0   \n",
       "3      241032   956883 2011-08-11  within a few hours                96.0   \n",
       "4      241032   956883 2011-08-11  within a few hours                96.0   \n",
       "\n",
       "   host_acceptance_rate  host_is_superhost  host_identity_verified  \\\n",
       "0                 100.0                0.0                     1.0   \n",
       "1                 100.0                0.0                     1.0   \n",
       "2                 100.0                0.0                     1.0   \n",
       "3                 100.0                0.0                     1.0   \n",
       "4                 100.0                0.0                     1.0   \n",
       "\n",
       "  neighbourhood_group_cleansed property_type        room_type  accommodates  \\\n",
       "0                   Queen Anne     Apartment  Entire home/apt             4   \n",
       "1                   Queen Anne     Apartment  Entire home/apt             4   \n",
       "2                   Queen Anne     Apartment  Entire home/apt             4   \n",
       "3                   Queen Anne     Apartment  Entire home/apt             4   \n",
       "4                   Queen Anne     Apartment  Entire home/apt             4   \n",
       "\n",
       "   bathrooms  bedrooms  guests_included  minimum_nights  review_scores_rating  \\\n",
       "0        1.0       1.0                2               1                  95.0   \n",
       "1        1.0       1.0                2               1                  95.0   \n",
       "2        1.0       1.0                2               1                  95.0   \n",
       "3        1.0       1.0                2               1                  95.0   \n",
       "4        1.0       1.0                2               1                  95.0   \n",
       "\n",
       "   reviews_per_month  available  price  month  year  \n",
       "0               4.07          1   85.0      1  2016  \n",
       "1               4.07          1   85.0      1  2016  \n",
       "2               4.07          1   85.0      1  2016  \n",
       "3               4.07          1   85.0      1  2016  \n",
       "4               4.07          1   85.0      1  2016  "
      ]
     },
     "execution_count": 37,
     "metadata": {},
     "output_type": "execute_result"
    }
   ],
   "source": [
    "dfCombined.head()"
   ]
  },
  {
   "cell_type": "code",
   "execution_count": 38,
   "metadata": {},
   "outputs": [],
   "source": [
    "### Combining all of the above in a function\n",
    "def clean_data(dfcalender,dflistings):\n",
    "    '''\n",
    "    Clean up dfcalender and dflistings data and combine them into a single dataframe. \n",
    "    \n",
    "    Parameters\n",
    "    ----------\n",
    "    dfcalender (dataframe): The dataframe containing price data per day of each listing.\n",
    "    dflistings (dataframe): The dataframe containing each listing's details and various details about the host.\n",
    "\n",
    "    Returns \n",
    "    -------\n",
    "    dfcombined (dataframe): The cleaned up and combined dataframe used for modeling in the later steps. \n",
    "    '''\n",
    "\n",
    "    #remove duplicate entries\n",
    "    dfcalender.drop_duplicates(inplace=True)\n",
    "    dflistings.drop_duplicates(inplace=True)\n",
    "    \n",
    "    #remove dfcalender values with missing price column\n",
    "    dfcalender.dropna(inplace=True)\n",
    "    \n",
    "    # change \"price\" to float, and \"available\" to boolean in Calender data\n",
    "    dfcalender.price = dfcalender.price.str.replace('$','')\n",
    "    dfcalender.price = dfcalender.price.str.replace(',','').astype('float')\n",
    "    dfcalender['available'].replace({'t':1,'f':0},inplace=True)\n",
    "    \n",
    "    #Listings Data : Change \"host_response_rate\", \"host_acceptance_rate\" to float,\n",
    "    # and \"host_is_superhost\" ,\" host_identity_verified\" to boolean)\n",
    "    dflistings['host_acceptance_rate'] = dflistings['host_acceptance_rate'].str.replace('%','').astype('float')\n",
    "    dflistings['host_response_rate'] = dflistings['host_response_rate'].str.replace('%','').astype('float')\n",
    "    \n",
    "    dflistings['host_is_superhost'].replace({'f':0,'t':1},inplace=True)\n",
    "    dflistings['host_identity_verified'].replace({'f':0,'t':1},inplace=True)\n",
    "    \n",
    "    #combine the dataframes\n",
    "    dflistings.rename(columns={'id':'listing_id'},inplace=True)\n",
    "    dfcalender['date'] = pd.to_datetime(dfcalender['date'])\n",
    "    dfcombined = pd.merge(dflistings,dfcalender)\n",
    "    \n",
    "\n",
    "    dfcombined['month'] = dfcombined['date'].dt.month\n",
    "    dfcombined['year'] = dfcombined['date'].dt.year\n",
    "    dfcombined.drop(['date'],axis=1,inplace=True)\n",
    "    \n",
    "    # convert host_since to datetime object\n",
    "    dfcombined['host_since'] = pd.to_datetime(dfcombined['host_since'],errors='coerce')\n",
    "    \n",
    "    return dfcombined"
   ]
  },
  {
   "cell_type": "markdown",
   "metadata": {},
   "source": [
    "Now lets test this function by comparing its output with our preprocessed dataframes."
   ]
  },
  {
   "cell_type": "code",
   "execution_count": 39,
   "metadata": {},
   "outputs": [],
   "source": [
    "dflistings = pd.read_csv('./listings.csv')\n",
    "dfcalender = pd.read_csv('./calendar.csv')"
   ]
  },
  {
   "cell_type": "code",
   "execution_count": 40,
   "metadata": {},
   "outputs": [],
   "source": [
    "ListingsColumns = ['id','host_id','host_since','host_response_time','host_response_rate', \\\n",
    "                   'host_acceptance_rate','host_is_superhost', 'host_identity_verified', \\\n",
    "                   'neighbourhood_group_cleansed', 'property_type','room_type','accommodates','bathrooms',\\\n",
    "                   'bedrooms','guests_included','minimum_nights','review_scores_rating','reviews_per_month']"
   ]
  },
  {
   "cell_type": "code",
   "execution_count": 41,
   "metadata": {},
   "outputs": [],
   "source": [
    "dflistings = dflistings[ListingsColumns].copy()"
   ]
  },
  {
   "cell_type": "code",
   "execution_count": 42,
   "metadata": {},
   "outputs": [],
   "source": [
    "dfCombined2 = clean_data(dfcalender,dflistings)"
   ]
  },
  {
   "cell_type": "code",
   "execution_count": 43,
   "metadata": {},
   "outputs": [
    {
     "data": {
      "text/plain": [
       "True"
      ]
     },
     "execution_count": 43,
     "metadata": {},
     "output_type": "execute_result"
    }
   ],
   "source": [
    "dfCombined2.equals(dfCombined)"
   ]
  },
  {
   "cell_type": "markdown",
   "metadata": {},
   "source": [
    "* Awesome. Now we can go ahead with answering the questions we had stated in the first section, through some plots and a model.  "
   ]
  },
  {
   "cell_type": "code",
   "execution_count": 44,
   "metadata": {},
   "outputs": [],
   "source": [
    "corrmat = dfCombined.select_dtypes(include=['number']).drop(['listing_id','host_id','available'],axis=1).corr()"
   ]
  },
  {
   "cell_type": "markdown",
   "metadata": {},
   "source": [
    "#### 1. Correlation Plot"
   ]
  },
  {
   "cell_type": "code",
   "execution_count": 45,
   "metadata": {},
   "outputs": [
    {
     "data": {
      "text/plain": [
       "<matplotlib.axes._subplots.AxesSubplot at 0x7fa07d54ae20>"
      ]
     },
     "execution_count": 45,
     "metadata": {},
     "output_type": "execute_result"
    },
    {
     "data": {
      "image/png": "[encoded data removed]",
      "text/plain": [
       "<Figure size 720x720 with 2 Axes>"
      ]
     },
     "metadata": {
      "needs_background": "light"
     },
     "output_type": "display_data"
    }
   ],
   "source": [
    "plt.figure(figsize=(10,10))\n",
    "plt.title('Feature Correlation Matrix');\n",
    "sns.heatmap(corrmat,\n",
    "            annot=True,\n",
    "            square=True,\n",
    "            fmt = '.2f'\n",
    "           )"
   ]
  },
  {
   "cell_type": "markdown",
   "metadata": {},
   "source": [
    "As expected, property parameters related to the size and broader ameneties (number of bedrooms, bathrooms, number of people the property accommodates) determine the price to a large extent and even features like time of the year (month), review_scores, and host related features like host_identity_verified, and host_is_superhost determine the price of the property to some extent."
   ]
  },
  {
   "cell_type": "markdown",
   "metadata": {},
   "source": [
    "#### 2. Number of listings by month for 2016"
   ]
  },
  {
   "cell_type": "code",
   "execution_count": 46,
   "metadata": {},
   "outputs": [
    {
     "data": {
      "image/png": "[encoded data removed]",
      "text/plain": [
       "<Figure size 720x576 with 1 Axes>"
      ]
     },
     "metadata": {
      "needs_background": "light"
     },
     "output_type": "display_data"
    }
   ],
   "source": [
    "plt.figure(figsize = (10,8))\n",
    "plt.plot(dfCombined[dfCombined['year'] == 2016].groupby(['month'])['listing_id'].nunique());\n",
    "plt.title('Number of listings per month (2016)');"
   ]
  },
  {
   "cell_type": "markdown",
   "metadata": {},
   "source": [
    "* Summer (July) has lower listings than other months "
   ]
  },
  {
   "cell_type": "markdown",
   "metadata": {},
   "source": [
    "#### 3. Price Variation by Month"
   ]
  },
  {
   "cell_type": "code",
   "execution_count": 47,
   "metadata": {},
   "outputs": [
    {
     "data": {
      "image/png": "[encoded data removed]",
      "text/plain": [
       "<Figure size 720x432 with 1 Axes>"
      ]
     },
     "metadata": {
      "needs_background": "light"
     },
     "output_type": "display_data"
    }
   ],
   "source": [
    "plt.figure(figsize = (10,6))\n",
    "plt.plot(dfCombined.groupby(['month'])['price'].mean());\n",
    "plt.title('Average price per month');\n",
    "plt.xlabel('Month');\n",
    "plt.ylabel('Price ($)');"
   ]
  },
  {
   "cell_type": "markdown",
   "metadata": {},
   "source": [
    "#### Question1: Are there price variations within the year? Which months are most expensive and which are not?   "
   ]
  },
  {
   "cell_type": "markdown",
   "metadata": {},
   "source": [
    "* Summer (July) also has the highest average rates than other parts of the year, and to a lesser extent December as well indicating holiday season to be expensive time to visit Seattle."
   ]
  },
  {
   "cell_type": "markdown",
   "metadata": {},
   "source": [
    "#### 4. Prices against neighborhoods"
   ]
  },
  {
   "cell_type": "code",
   "execution_count": 48,
   "metadata": {},
   "outputs": [],
   "source": [
    "neighborhoods = dfCombined.neighbourhood_group_cleansed.unique()"
   ]
  },
  {
   "cell_type": "code",
   "execution_count": 49,
   "metadata": {},
   "outputs": [],
   "source": [
    "dfNeighborhood = pd.DataFrame(dfCombined.groupby(['neighbourhood_group_cleansed','month'])['price'].mean().reset_index())"
   ]
  },
  {
   "cell_type": "code",
   "execution_count": 50,
   "metadata": {},
   "outputs": [
    {
     "data": {
      "image/png": "[encoded data removed]",
      "text/plain": [
       "<Figure size 1440x720 with 1 Axes>"
      ]
     },
     "metadata": {
      "needs_background": "light"
     },
     "output_type": "display_data"
    }
   ],
   "source": [
    "plt.figure(figsize= (20,10))\n",
    "ax = plt.subplot()\n",
    "for neighborhood in neighborhoods:\n",
    "    ax.plot(dfNeighborhood[dfNeighborhood['neighbourhood_group_cleansed'] == neighborhood]['month'],\n",
    "            dfNeighborhood[dfNeighborhood['neighbourhood_group_cleansed'] == neighborhood]['price'],\n",
    "            label = neighborhood\n",
    "           )\n",
    "ax.legend(loc = 'upper right')\n",
    "plt.xlabel('Month');\n",
    "plt.ylabel('Price (in $)');\n",
    "plt.title('Prices of listings in various months of 2016 by neighborhood');"
   ]
  },
  {
   "cell_type": "markdown",
   "metadata": {},
   "source": [
    "### Question2 :  How are the prices of properties distributed across the neighborhoods?"
   ]
  },
  {
   "cell_type": "markdown",
   "metadata": {},
   "source": [
    "* Downtown has the highest prices and almost all neighborhoods have higher prices in summer. "
   ]
  },
  {
   "cell_type": "markdown",
   "metadata": {},
   "source": [
    "Now we move to the final part of the analysis: Understanding which features impact prices and building a model to predict prices to answer the last question.\n",
    "\n",
    "### Question 3: Which are the important factors for determining the price of a property? Can we model this?   "
   ]
  },
  {
   "cell_type": "markdown",
   "metadata": {},
   "source": [
    "## Section 4. Modeling"
   ]
  },
  {
   "cell_type": "markdown",
   "metadata": {},
   "source": [
    "We will build the following models:  \n",
    "    1. Linear Regression Model  \n",
    "    2. Lasso Regression Model  \n",
    "    3. Random Forest Regression Model  "
   ]
  },
  {
   "cell_type": "markdown",
   "metadata": {},
   "source": [
    "* We now make dummy variables of the categorical columns of interest and append them to the combined data."
   ]
  },
  {
   "cell_type": "code",
   "execution_count": 51,
   "metadata": {},
   "outputs": [],
   "source": [
    "dfCombinedCat =  pd.get_dummies(dfCombined.select_dtypes(['object'])) "
   ]
  },
  {
   "cell_type": "code",
   "execution_count": 52,
   "metadata": {},
   "outputs": [
    {
     "data": {
      "text/html": [
       "<div>\n",
       "<style scoped>\n",
       "    .dataframe tbody tr th:only-of-type {\n",
       "        vertical-align: middle;\n",
       "    }\n",
       "\n",
       "    .dataframe tbody tr th {\n",
       "        vertical-align: top;\n",
       "    }\n",
       "\n",
       "    .dataframe thead th {\n",
       "        text-align: right;\n",
       "    }\n",
       "</style>\n",
       "<table border=\"1\" class=\"dataframe\">\n",
       "  <thead>\n",
       "    <tr style=\"text-align: right;\">\n",
       "      <th></th>\n",
       "      <th>host_response_time_a few days or more</th>\n",
       "      <th>host_response_time_within a day</th>\n",
       "      <th>host_response_time_within a few hours</th>\n",
       "      <th>host_response_time_within an hour</th>\n",
       "      <th>neighbourhood_group_cleansed_Ballard</th>\n",
       "      <th>neighbourhood_group_cleansed_Beacon Hill</th>\n",
       "      <th>neighbourhood_group_cleansed_Capitol Hill</th>\n",
       "      <th>neighbourhood_group_cleansed_Cascade</th>\n",
       "      <th>neighbourhood_group_cleansed_Central Area</th>\n",
       "      <th>neighbourhood_group_cleansed_Delridge</th>\n",
       "      <th>neighbourhood_group_cleansed_Downtown</th>\n",
       "      <th>neighbourhood_group_cleansed_Interbay</th>\n",
       "      <th>neighbourhood_group_cleansed_Lake City</th>\n",
       "      <th>neighbourhood_group_cleansed_Magnolia</th>\n",
       "      <th>neighbourhood_group_cleansed_Northgate</th>\n",
       "      <th>neighbourhood_group_cleansed_Other neighborhoods</th>\n",
       "      <th>neighbourhood_group_cleansed_Queen Anne</th>\n",
       "      <th>neighbourhood_group_cleansed_Rainier Valley</th>\n",
       "      <th>neighbourhood_group_cleansed_Seward Park</th>\n",
       "      <th>neighbourhood_group_cleansed_University District</th>\n",
       "      <th>neighbourhood_group_cleansed_West Seattle</th>\n",
       "      <th>property_type_Apartment</th>\n",
       "      <th>property_type_Bed &amp; Breakfast</th>\n",
       "      <th>property_type_Boat</th>\n",
       "      <th>property_type_Bungalow</th>\n",
       "      <th>property_type_Cabin</th>\n",
       "      <th>property_type_Camper/RV</th>\n",
       "      <th>property_type_Chalet</th>\n",
       "      <th>property_type_Condominium</th>\n",
       "      <th>property_type_Dorm</th>\n",
       "      <th>property_type_House</th>\n",
       "      <th>property_type_Loft</th>\n",
       "      <th>property_type_Other</th>\n",
       "      <th>property_type_Tent</th>\n",
       "      <th>property_type_Townhouse</th>\n",
       "      <th>property_type_Treehouse</th>\n",
       "      <th>property_type_Yurt</th>\n",
       "      <th>room_type_Entire home/apt</th>\n",
       "      <th>room_type_Private room</th>\n",
       "      <th>room_type_Shared room</th>\n",
       "    </tr>\n",
       "  </thead>\n",
       "  <tbody>\n",
       "    <tr>\n",
       "      <th>0</th>\n",
       "      <td>0</td>\n",
       "      <td>0</td>\n",
       "      <td>1</td>\n",
       "      <td>0</td>\n",
       "      <td>0</td>\n",
       "      <td>0</td>\n",
       "      <td>0</td>\n",
       "      <td>0</td>\n",
       "      <td>0</td>\n",
       "      <td>0</td>\n",
       "      <td>0</td>\n",
       "      <td>0</td>\n",
       "      <td>0</td>\n",
       "      <td>0</td>\n",
       "      <td>0</td>\n",
       "      <td>0</td>\n",
       "      <td>1</td>\n",
       "      <td>0</td>\n",
       "      <td>0</td>\n",
       "      <td>0</td>\n",
       "      <td>0</td>\n",
       "      <td>1</td>\n",
       "      <td>0</td>\n",
       "      <td>0</td>\n",
       "      <td>0</td>\n",
       "      <td>0</td>\n",
       "      <td>0</td>\n",
       "      <td>0</td>\n",
       "      <td>0</td>\n",
       "      <td>0</td>\n",
       "      <td>0</td>\n",
       "      <td>0</td>\n",
       "      <td>0</td>\n",
       "      <td>0</td>\n",
       "      <td>0</td>\n",
       "      <td>0</td>\n",
       "      <td>0</td>\n",
       "      <td>1</td>\n",
       "      <td>0</td>\n",
       "      <td>0</td>\n",
       "    </tr>\n",
       "    <tr>\n",
       "      <th>1</th>\n",
       "      <td>0</td>\n",
       "      <td>0</td>\n",
       "      <td>1</td>\n",
       "      <td>0</td>\n",
       "      <td>0</td>\n",
       "      <td>0</td>\n",
       "      <td>0</td>\n",
       "      <td>0</td>\n",
       "      <td>0</td>\n",
       "      <td>0</td>\n",
       "      <td>0</td>\n",
       "      <td>0</td>\n",
       "      <td>0</td>\n",
       "      <td>0</td>\n",
       "      <td>0</td>\n",
       "      <td>0</td>\n",
       "      <td>1</td>\n",
       "      <td>0</td>\n",
       "      <td>0</td>\n",
       "      <td>0</td>\n",
       "      <td>0</td>\n",
       "      <td>1</td>\n",
       "      <td>0</td>\n",
       "      <td>0</td>\n",
       "      <td>0</td>\n",
       "      <td>0</td>\n",
       "      <td>0</td>\n",
       "      <td>0</td>\n",
       "      <td>0</td>\n",
       "      <td>0</td>\n",
       "      <td>0</td>\n",
       "      <td>0</td>\n",
       "      <td>0</td>\n",
       "      <td>0</td>\n",
       "      <td>0</td>\n",
       "      <td>0</td>\n",
       "      <td>0</td>\n",
       "      <td>1</td>\n",
       "      <td>0</td>\n",
       "      <td>0</td>\n",
       "    </tr>\n",
       "    <tr>\n",
       "      <th>2</th>\n",
       "      <td>0</td>\n",
       "      <td>0</td>\n",
       "      <td>1</td>\n",
       "      <td>0</td>\n",
       "      <td>0</td>\n",
       "      <td>0</td>\n",
       "      <td>0</td>\n",
       "      <td>0</td>\n",
       "      <td>0</td>\n",
       "      <td>0</td>\n",
       "      <td>0</td>\n",
       "      <td>0</td>\n",
       "      <td>0</td>\n",
       "      <td>0</td>\n",
       "      <td>0</td>\n",
       "      <td>0</td>\n",
       "      <td>1</td>\n",
       "      <td>0</td>\n",
       "      <td>0</td>\n",
       "      <td>0</td>\n",
       "      <td>0</td>\n",
       "      <td>1</td>\n",
       "      <td>0</td>\n",
       "      <td>0</td>\n",
       "      <td>0</td>\n",
       "      <td>0</td>\n",
       "      <td>0</td>\n",
       "      <td>0</td>\n",
       "      <td>0</td>\n",
       "      <td>0</td>\n",
       "      <td>0</td>\n",
       "      <td>0</td>\n",
       "      <td>0</td>\n",
       "      <td>0</td>\n",
       "      <td>0</td>\n",
       "      <td>0</td>\n",
       "      <td>0</td>\n",
       "      <td>1</td>\n",
       "      <td>0</td>\n",
       "      <td>0</td>\n",
       "    </tr>\n",
       "    <tr>\n",
       "      <th>3</th>\n",
       "      <td>0</td>\n",
       "      <td>0</td>\n",
       "      <td>1</td>\n",
       "      <td>0</td>\n",
       "      <td>0</td>\n",
       "      <td>0</td>\n",
       "      <td>0</td>\n",
       "      <td>0</td>\n",
       "      <td>0</td>\n",
       "      <td>0</td>\n",
       "      <td>0</td>\n",
       "      <td>0</td>\n",
       "      <td>0</td>\n",
       "      <td>0</td>\n",
       "      <td>0</td>\n",
       "      <td>0</td>\n",
       "      <td>1</td>\n",
       "      <td>0</td>\n",
       "      <td>0</td>\n",
       "      <td>0</td>\n",
       "      <td>0</td>\n",
       "      <td>1</td>\n",
       "      <td>0</td>\n",
       "      <td>0</td>\n",
       "      <td>0</td>\n",
       "      <td>0</td>\n",
       "      <td>0</td>\n",
       "      <td>0</td>\n",
       "      <td>0</td>\n",
       "      <td>0</td>\n",
       "      <td>0</td>\n",
       "      <td>0</td>\n",
       "      <td>0</td>\n",
       "      <td>0</td>\n",
       "      <td>0</td>\n",
       "      <td>0</td>\n",
       "      <td>0</td>\n",
       "      <td>1</td>\n",
       "      <td>0</td>\n",
       "      <td>0</td>\n",
       "    </tr>\n",
       "    <tr>\n",
       "      <th>4</th>\n",
       "      <td>0</td>\n",
       "      <td>0</td>\n",
       "      <td>1</td>\n",
       "      <td>0</td>\n",
       "      <td>0</td>\n",
       "      <td>0</td>\n",
       "      <td>0</td>\n",
       "      <td>0</td>\n",
       "      <td>0</td>\n",
       "      <td>0</td>\n",
       "      <td>0</td>\n",
       "      <td>0</td>\n",
       "      <td>0</td>\n",
       "      <td>0</td>\n",
       "      <td>0</td>\n",
       "      <td>0</td>\n",
       "      <td>1</td>\n",
       "      <td>0</td>\n",
       "      <td>0</td>\n",
       "      <td>0</td>\n",
       "      <td>0</td>\n",
       "      <td>1</td>\n",
       "      <td>0</td>\n",
       "      <td>0</td>\n",
       "      <td>0</td>\n",
       "      <td>0</td>\n",
       "      <td>0</td>\n",
       "      <td>0</td>\n",
       "      <td>0</td>\n",
       "      <td>0</td>\n",
       "      <td>0</td>\n",
       "      <td>0</td>\n",
       "      <td>0</td>\n",
       "      <td>0</td>\n",
       "      <td>0</td>\n",
       "      <td>0</td>\n",
       "      <td>0</td>\n",
       "      <td>1</td>\n",
       "      <td>0</td>\n",
       "      <td>0</td>\n",
       "    </tr>\n",
       "  </tbody>\n",
       "</table>\n",
       "</div>"
      ],
      "text/plain": [
       "   host_response_time_a few days or more  host_response_time_within a day  \\\n",
       "0                                      0                                0   \n",
       "1                                      0                                0   \n",
       "2                                      0                                0   \n",
       "3                                      0                                0   \n",
       "4                                      0                                0   \n",
       "\n",
       "   host_response_time_within a few hours  host_response_time_within an hour  \\\n",
       "0                                      1                                  0   \n",
       "1                                      1                                  0   \n",
       "2                                      1                                  0   \n",
       "3                                      1                                  0   \n",
       "4                                      1                                  0   \n",
       "\n",
       "   neighbourhood_group_cleansed_Ballard  \\\n",
       "0                                     0   \n",
       "1                                     0   \n",
       "2                                     0   \n",
       "3                                     0   \n",
       "4                                     0   \n",
       "\n",
       "   neighbourhood_group_cleansed_Beacon Hill  \\\n",
       "0                                         0   \n",
       "1                                         0   \n",
       "2                                         0   \n",
       "3                                         0   \n",
       "4                                         0   \n",
       "\n",
       "   neighbourhood_group_cleansed_Capitol Hill  \\\n",
       "0                                          0   \n",
       "1                                          0   \n",
       "2                                          0   \n",
       "3                                          0   \n",
       "4                                          0   \n",
       "\n",
       "   neighbourhood_group_cleansed_Cascade  \\\n",
       "0                                     0   \n",
       "1                                     0   \n",
       "2                                     0   \n",
       "3                                     0   \n",
       "4                                     0   \n",
       "\n",
       "   neighbourhood_group_cleansed_Central Area  \\\n",
       "0                                          0   \n",
       "1                                          0   \n",
       "2                                          0   \n",
       "3                                          0   \n",
       "4                                          0   \n",
       "\n",
       "   neighbourhood_group_cleansed_Delridge  \\\n",
       "0                                      0   \n",
       "1                                      0   \n",
       "2                                      0   \n",
       "3                                      0   \n",
       "4                                      0   \n",
       "\n",
       "   neighbourhood_group_cleansed_Downtown  \\\n",
       "0                                      0   \n",
       "1                                      0   \n",
       "2                                      0   \n",
       "3                                      0   \n",
       "4                                      0   \n",
       "\n",
       "   neighbourhood_group_cleansed_Interbay  \\\n",
       "0                                      0   \n",
       "1                                      0   \n",
       "2                                      0   \n",
       "3                                      0   \n",
       "4                                      0   \n",
       "\n",
       "   neighbourhood_group_cleansed_Lake City  \\\n",
       "0                                       0   \n",
       "1                                       0   \n",
       "2                                       0   \n",
       "3                                       0   \n",
       "4                                       0   \n",
       "\n",
       "   neighbourhood_group_cleansed_Magnolia  \\\n",
       "0                                      0   \n",
       "1                                      0   \n",
       "2                                      0   \n",
       "3                                      0   \n",
       "4                                      0   \n",
       "\n",
       "   neighbourhood_group_cleansed_Northgate  \\\n",
       "0                                       0   \n",
       "1                                       0   \n",
       "2                                       0   \n",
       "3                                       0   \n",
       "4                                       0   \n",
       "\n",
       "   neighbourhood_group_cleansed_Other neighborhoods  \\\n",
       "0                                                 0   \n",
       "1                                                 0   \n",
       "2                                                 0   \n",
       "3                                                 0   \n",
       "4                                                 0   \n",
       "\n",
       "   neighbourhood_group_cleansed_Queen Anne  \\\n",
       "0                                        1   \n",
       "1                                        1   \n",
       "2                                        1   \n",
       "3                                        1   \n",
       "4                                        1   \n",
       "\n",
       "   neighbourhood_group_cleansed_Rainier Valley  \\\n",
       "0                                            0   \n",
       "1                                            0   \n",
       "2                                            0   \n",
       "3                                            0   \n",
       "4                                            0   \n",
       "\n",
       "   neighbourhood_group_cleansed_Seward Park  \\\n",
       "0                                         0   \n",
       "1                                         0   \n",
       "2                                         0   \n",
       "3                                         0   \n",
       "4                                         0   \n",
       "\n",
       "   neighbourhood_group_cleansed_University District  \\\n",
       "0                                                 0   \n",
       "1                                                 0   \n",
       "2                                                 0   \n",
       "3                                                 0   \n",
       "4                                                 0   \n",
       "\n",
       "   neighbourhood_group_cleansed_West Seattle  property_type_Apartment  \\\n",
       "0                                          0                        1   \n",
       "1                                          0                        1   \n",
       "2                                          0                        1   \n",
       "3                                          0                        1   \n",
       "4                                          0                        1   \n",
       "\n",
       "   property_type_Bed & Breakfast  property_type_Boat  property_type_Bungalow  \\\n",
       "0                              0                   0                       0   \n",
       "1                              0                   0                       0   \n",
       "2                              0                   0                       0   \n",
       "3                              0                   0                       0   \n",
       "4                              0                   0                       0   \n",
       "\n",
       "   property_type_Cabin  property_type_Camper/RV  property_type_Chalet  \\\n",
       "0                    0                        0                     0   \n",
       "1                    0                        0                     0   \n",
       "2                    0                        0                     0   \n",
       "3                    0                        0                     0   \n",
       "4                    0                        0                     0   \n",
       "\n",
       "   property_type_Condominium  property_type_Dorm  property_type_House  \\\n",
       "0                          0                   0                    0   \n",
       "1                          0                   0                    0   \n",
       "2                          0                   0                    0   \n",
       "3                          0                   0                    0   \n",
       "4                          0                   0                    0   \n",
       "\n",
       "   property_type_Loft  property_type_Other  property_type_Tent  \\\n",
       "0                   0                    0                   0   \n",
       "1                   0                    0                   0   \n",
       "2                   0                    0                   0   \n",
       "3                   0                    0                   0   \n",
       "4                   0                    0                   0   \n",
       "\n",
       "   property_type_Townhouse  property_type_Treehouse  property_type_Yurt  \\\n",
       "0                        0                        0                   0   \n",
       "1                        0                        0                   0   \n",
       "2                        0                        0                   0   \n",
       "3                        0                        0                   0   \n",
       "4                        0                        0                   0   \n",
       "\n",
       "   room_type_Entire home/apt  room_type_Private room  room_type_Shared room  \n",
       "0                          1                       0                      0  \n",
       "1                          1                       0                      0  \n",
       "2                          1                       0                      0  \n",
       "3                          1                       0                      0  \n",
       "4                          1                       0                      0  "
      ]
     },
     "execution_count": 52,
     "metadata": {},
     "output_type": "execute_result"
    }
   ],
   "source": [
    "dfCombinedCat.head()"
   ]
  },
  {
   "cell_type": "code",
   "execution_count": 53,
   "metadata": {},
   "outputs": [
    {
     "data": {
      "text/plain": [
       "(934542, 22)"
      ]
     },
     "execution_count": 53,
     "metadata": {},
     "output_type": "execute_result"
    }
   ],
   "source": [
    "dfCombined.shape"
   ]
  },
  {
   "cell_type": "code",
   "execution_count": 54,
   "metadata": {},
   "outputs": [],
   "source": [
    "dfCombinedFinal = pd.concat([dfCombined.select_dtypes(['number']),dfCombinedCat],axis=1)"
   ]
  },
  {
   "cell_type": "code",
   "execution_count": 55,
   "metadata": {},
   "outputs": [
    {
     "data": {
      "text/html": [
       "<div>\n",
       "<style scoped>\n",
       "    .dataframe tbody tr th:only-of-type {\n",
       "        vertical-align: middle;\n",
       "    }\n",
       "\n",
       "    .dataframe tbody tr th {\n",
       "        vertical-align: top;\n",
       "    }\n",
       "\n",
       "    .dataframe thead th {\n",
       "        text-align: right;\n",
       "    }\n",
       "</style>\n",
       "<table border=\"1\" class=\"dataframe\">\n",
       "  <thead>\n",
       "    <tr style=\"text-align: right;\">\n",
       "      <th></th>\n",
       "      <th>listing_id</th>\n",
       "      <th>host_id</th>\n",
       "      <th>host_response_rate</th>\n",
       "      <th>host_acceptance_rate</th>\n",
       "      <th>host_is_superhost</th>\n",
       "      <th>host_identity_verified</th>\n",
       "      <th>accommodates</th>\n",
       "      <th>bathrooms</th>\n",
       "      <th>bedrooms</th>\n",
       "      <th>guests_included</th>\n",
       "      <th>minimum_nights</th>\n",
       "      <th>review_scores_rating</th>\n",
       "      <th>reviews_per_month</th>\n",
       "      <th>available</th>\n",
       "      <th>price</th>\n",
       "      <th>month</th>\n",
       "      <th>year</th>\n",
       "      <th>host_response_time_a few days or more</th>\n",
       "      <th>host_response_time_within a day</th>\n",
       "      <th>host_response_time_within a few hours</th>\n",
       "      <th>host_response_time_within an hour</th>\n",
       "      <th>neighbourhood_group_cleansed_Ballard</th>\n",
       "      <th>neighbourhood_group_cleansed_Beacon Hill</th>\n",
       "      <th>neighbourhood_group_cleansed_Capitol Hill</th>\n",
       "      <th>neighbourhood_group_cleansed_Cascade</th>\n",
       "      <th>neighbourhood_group_cleansed_Central Area</th>\n",
       "      <th>neighbourhood_group_cleansed_Delridge</th>\n",
       "      <th>neighbourhood_group_cleansed_Downtown</th>\n",
       "      <th>neighbourhood_group_cleansed_Interbay</th>\n",
       "      <th>neighbourhood_group_cleansed_Lake City</th>\n",
       "      <th>neighbourhood_group_cleansed_Magnolia</th>\n",
       "      <th>neighbourhood_group_cleansed_Northgate</th>\n",
       "      <th>neighbourhood_group_cleansed_Other neighborhoods</th>\n",
       "      <th>neighbourhood_group_cleansed_Queen Anne</th>\n",
       "      <th>neighbourhood_group_cleansed_Rainier Valley</th>\n",
       "      <th>neighbourhood_group_cleansed_Seward Park</th>\n",
       "      <th>neighbourhood_group_cleansed_University District</th>\n",
       "      <th>neighbourhood_group_cleansed_West Seattle</th>\n",
       "      <th>property_type_Apartment</th>\n",
       "      <th>property_type_Bed &amp; Breakfast</th>\n",
       "      <th>property_type_Boat</th>\n",
       "      <th>property_type_Bungalow</th>\n",
       "      <th>property_type_Cabin</th>\n",
       "      <th>property_type_Camper/RV</th>\n",
       "      <th>property_type_Chalet</th>\n",
       "      <th>property_type_Condominium</th>\n",
       "      <th>property_type_Dorm</th>\n",
       "      <th>property_type_House</th>\n",
       "      <th>property_type_Loft</th>\n",
       "      <th>property_type_Other</th>\n",
       "      <th>property_type_Tent</th>\n",
       "      <th>property_type_Townhouse</th>\n",
       "      <th>property_type_Treehouse</th>\n",
       "      <th>property_type_Yurt</th>\n",
       "      <th>room_type_Entire home/apt</th>\n",
       "      <th>room_type_Private room</th>\n",
       "      <th>room_type_Shared room</th>\n",
       "    </tr>\n",
       "  </thead>\n",
       "  <tbody>\n",
       "    <tr>\n",
       "      <th>0</th>\n",
       "      <td>241032</td>\n",
       "      <td>956883</td>\n",
       "      <td>96.0</td>\n",
       "      <td>100.0</td>\n",
       "      <td>0.0</td>\n",
       "      <td>1.0</td>\n",
       "      <td>4</td>\n",
       "      <td>1.0</td>\n",
       "      <td>1.0</td>\n",
       "      <td>2</td>\n",
       "      <td>1</td>\n",
       "      <td>95.0</td>\n",
       "      <td>4.07</td>\n",
       "      <td>1</td>\n",
       "      <td>85.0</td>\n",
       "      <td>1</td>\n",
       "      <td>2016</td>\n",
       "      <td>0</td>\n",
       "      <td>0</td>\n",
       "      <td>1</td>\n",
       "      <td>0</td>\n",
       "      <td>0</td>\n",
       "      <td>0</td>\n",
       "      <td>0</td>\n",
       "      <td>0</td>\n",
       "      <td>0</td>\n",
       "      <td>0</td>\n",
       "      <td>0</td>\n",
       "      <td>0</td>\n",
       "      <td>0</td>\n",
       "      <td>0</td>\n",
       "      <td>0</td>\n",
       "      <td>0</td>\n",
       "      <td>1</td>\n",
       "      <td>0</td>\n",
       "      <td>0</td>\n",
       "      <td>0</td>\n",
       "      <td>0</td>\n",
       "      <td>1</td>\n",
       "      <td>0</td>\n",
       "      <td>0</td>\n",
       "      <td>0</td>\n",
       "      <td>0</td>\n",
       "      <td>0</td>\n",
       "      <td>0</td>\n",
       "      <td>0</td>\n",
       "      <td>0</td>\n",
       "      <td>0</td>\n",
       "      <td>0</td>\n",
       "      <td>0</td>\n",
       "      <td>0</td>\n",
       "      <td>0</td>\n",
       "      <td>0</td>\n",
       "      <td>0</td>\n",
       "      <td>1</td>\n",
       "      <td>0</td>\n",
       "      <td>0</td>\n",
       "    </tr>\n",
       "    <tr>\n",
       "      <th>1</th>\n",
       "      <td>241032</td>\n",
       "      <td>956883</td>\n",
       "      <td>96.0</td>\n",
       "      <td>100.0</td>\n",
       "      <td>0.0</td>\n",
       "      <td>1.0</td>\n",
       "      <td>4</td>\n",
       "      <td>1.0</td>\n",
       "      <td>1.0</td>\n",
       "      <td>2</td>\n",
       "      <td>1</td>\n",
       "      <td>95.0</td>\n",
       "      <td>4.07</td>\n",
       "      <td>1</td>\n",
       "      <td>85.0</td>\n",
       "      <td>1</td>\n",
       "      <td>2016</td>\n",
       "      <td>0</td>\n",
       "      <td>0</td>\n",
       "      <td>1</td>\n",
       "      <td>0</td>\n",
       "      <td>0</td>\n",
       "      <td>0</td>\n",
       "      <td>0</td>\n",
       "      <td>0</td>\n",
       "      <td>0</td>\n",
       "      <td>0</td>\n",
       "      <td>0</td>\n",
       "      <td>0</td>\n",
       "      <td>0</td>\n",
       "      <td>0</td>\n",
       "      <td>0</td>\n",
       "      <td>0</td>\n",
       "      <td>1</td>\n",
       "      <td>0</td>\n",
       "      <td>0</td>\n",
       "      <td>0</td>\n",
       "      <td>0</td>\n",
       "      <td>1</td>\n",
       "      <td>0</td>\n",
       "      <td>0</td>\n",
       "      <td>0</td>\n",
       "      <td>0</td>\n",
       "      <td>0</td>\n",
       "      <td>0</td>\n",
       "      <td>0</td>\n",
       "      <td>0</td>\n",
       "      <td>0</td>\n",
       "      <td>0</td>\n",
       "      <td>0</td>\n",
       "      <td>0</td>\n",
       "      <td>0</td>\n",
       "      <td>0</td>\n",
       "      <td>0</td>\n",
       "      <td>1</td>\n",
       "      <td>0</td>\n",
       "      <td>0</td>\n",
       "    </tr>\n",
       "    <tr>\n",
       "      <th>2</th>\n",
       "      <td>241032</td>\n",
       "      <td>956883</td>\n",
       "      <td>96.0</td>\n",
       "      <td>100.0</td>\n",
       "      <td>0.0</td>\n",
       "      <td>1.0</td>\n",
       "      <td>4</td>\n",
       "      <td>1.0</td>\n",
       "      <td>1.0</td>\n",
       "      <td>2</td>\n",
       "      <td>1</td>\n",
       "      <td>95.0</td>\n",
       "      <td>4.07</td>\n",
       "      <td>1</td>\n",
       "      <td>85.0</td>\n",
       "      <td>1</td>\n",
       "      <td>2016</td>\n",
       "      <td>0</td>\n",
       "      <td>0</td>\n",
       "      <td>1</td>\n",
       "      <td>0</td>\n",
       "      <td>0</td>\n",
       "      <td>0</td>\n",
       "      <td>0</td>\n",
       "      <td>0</td>\n",
       "      <td>0</td>\n",
       "      <td>0</td>\n",
       "      <td>0</td>\n",
       "      <td>0</td>\n",
       "      <td>0</td>\n",
       "      <td>0</td>\n",
       "      <td>0</td>\n",
       "      <td>0</td>\n",
       "      <td>1</td>\n",
       "      <td>0</td>\n",
       "      <td>0</td>\n",
       "      <td>0</td>\n",
       "      <td>0</td>\n",
       "      <td>1</td>\n",
       "      <td>0</td>\n",
       "      <td>0</td>\n",
       "      <td>0</td>\n",
       "      <td>0</td>\n",
       "      <td>0</td>\n",
       "      <td>0</td>\n",
       "      <td>0</td>\n",
       "      <td>0</td>\n",
       "      <td>0</td>\n",
       "      <td>0</td>\n",
       "      <td>0</td>\n",
       "      <td>0</td>\n",
       "      <td>0</td>\n",
       "      <td>0</td>\n",
       "      <td>0</td>\n",
       "      <td>1</td>\n",
       "      <td>0</td>\n",
       "      <td>0</td>\n",
       "    </tr>\n",
       "    <tr>\n",
       "      <th>3</th>\n",
       "      <td>241032</td>\n",
       "      <td>956883</td>\n",
       "      <td>96.0</td>\n",
       "      <td>100.0</td>\n",
       "      <td>0.0</td>\n",
       "      <td>1.0</td>\n",
       "      <td>4</td>\n",
       "      <td>1.0</td>\n",
       "      <td>1.0</td>\n",
       "      <td>2</td>\n",
       "      <td>1</td>\n",
       "      <td>95.0</td>\n",
       "      <td>4.07</td>\n",
       "      <td>1</td>\n",
       "      <td>85.0</td>\n",
       "      <td>1</td>\n",
       "      <td>2016</td>\n",
       "      <td>0</td>\n",
       "      <td>0</td>\n",
       "      <td>1</td>\n",
       "      <td>0</td>\n",
       "      <td>0</td>\n",
       "      <td>0</td>\n",
       "      <td>0</td>\n",
       "      <td>0</td>\n",
       "      <td>0</td>\n",
       "      <td>0</td>\n",
       "      <td>0</td>\n",
       "      <td>0</td>\n",
       "      <td>0</td>\n",
       "      <td>0</td>\n",
       "      <td>0</td>\n",
       "      <td>0</td>\n",
       "      <td>1</td>\n",
       "      <td>0</td>\n",
       "      <td>0</td>\n",
       "      <td>0</td>\n",
       "      <td>0</td>\n",
       "      <td>1</td>\n",
       "      <td>0</td>\n",
       "      <td>0</td>\n",
       "      <td>0</td>\n",
       "      <td>0</td>\n",
       "      <td>0</td>\n",
       "      <td>0</td>\n",
       "      <td>0</td>\n",
       "      <td>0</td>\n",
       "      <td>0</td>\n",
       "      <td>0</td>\n",
       "      <td>0</td>\n",
       "      <td>0</td>\n",
       "      <td>0</td>\n",
       "      <td>0</td>\n",
       "      <td>0</td>\n",
       "      <td>1</td>\n",
       "      <td>0</td>\n",
       "      <td>0</td>\n",
       "    </tr>\n",
       "    <tr>\n",
       "      <th>4</th>\n",
       "      <td>241032</td>\n",
       "      <td>956883</td>\n",
       "      <td>96.0</td>\n",
       "      <td>100.0</td>\n",
       "      <td>0.0</td>\n",
       "      <td>1.0</td>\n",
       "      <td>4</td>\n",
       "      <td>1.0</td>\n",
       "      <td>1.0</td>\n",
       "      <td>2</td>\n",
       "      <td>1</td>\n",
       "      <td>95.0</td>\n",
       "      <td>4.07</td>\n",
       "      <td>1</td>\n",
       "      <td>85.0</td>\n",
       "      <td>1</td>\n",
       "      <td>2016</td>\n",
       "      <td>0</td>\n",
       "      <td>0</td>\n",
       "      <td>1</td>\n",
       "      <td>0</td>\n",
       "      <td>0</td>\n",
       "      <td>0</td>\n",
       "      <td>0</td>\n",
       "      <td>0</td>\n",
       "      <td>0</td>\n",
       "      <td>0</td>\n",
       "      <td>0</td>\n",
       "      <td>0</td>\n",
       "      <td>0</td>\n",
       "      <td>0</td>\n",
       "      <td>0</td>\n",
       "      <td>0</td>\n",
       "      <td>1</td>\n",
       "      <td>0</td>\n",
       "      <td>0</td>\n",
       "      <td>0</td>\n",
       "      <td>0</td>\n",
       "      <td>1</td>\n",
       "      <td>0</td>\n",
       "      <td>0</td>\n",
       "      <td>0</td>\n",
       "      <td>0</td>\n",
       "      <td>0</td>\n",
       "      <td>0</td>\n",
       "      <td>0</td>\n",
       "      <td>0</td>\n",
       "      <td>0</td>\n",
       "      <td>0</td>\n",
       "      <td>0</td>\n",
       "      <td>0</td>\n",
       "      <td>0</td>\n",
       "      <td>0</td>\n",
       "      <td>0</td>\n",
       "      <td>1</td>\n",
       "      <td>0</td>\n",
       "      <td>0</td>\n",
       "    </tr>\n",
       "  </tbody>\n",
       "</table>\n",
       "</div>"
      ],
      "text/plain": [
       "   listing_id  host_id  host_response_rate  host_acceptance_rate  \\\n",
       "0      241032   956883                96.0                 100.0   \n",
       "1      241032   956883                96.0                 100.0   \n",
       "2      241032   956883                96.0                 100.0   \n",
       "3      241032   956883                96.0                 100.0   \n",
       "4      241032   956883                96.0                 100.0   \n",
       "\n",
       "   host_is_superhost  host_identity_verified  accommodates  bathrooms  \\\n",
       "0                0.0                     1.0             4        1.0   \n",
       "1                0.0                     1.0             4        1.0   \n",
       "2                0.0                     1.0             4        1.0   \n",
       "3                0.0                     1.0             4        1.0   \n",
       "4                0.0                     1.0             4        1.0   \n",
       "\n",
       "   bedrooms  guests_included  minimum_nights  review_scores_rating  \\\n",
       "0       1.0                2               1                  95.0   \n",
       "1       1.0                2               1                  95.0   \n",
       "2       1.0                2               1                  95.0   \n",
       "3       1.0                2               1                  95.0   \n",
       "4       1.0                2               1                  95.0   \n",
       "\n",
       "   reviews_per_month  available  price  month  year  \\\n",
       "0               4.07          1   85.0      1  2016   \n",
       "1               4.07          1   85.0      1  2016   \n",
       "2               4.07          1   85.0      1  2016   \n",
       "3               4.07          1   85.0      1  2016   \n",
       "4               4.07          1   85.0      1  2016   \n",
       "\n",
       "   host_response_time_a few days or more  host_response_time_within a day  \\\n",
       "0                                      0                                0   \n",
       "1                                      0                                0   \n",
       "2                                      0                                0   \n",
       "3                                      0                                0   \n",
       "4                                      0                                0   \n",
       "\n",
       "   host_response_time_within a few hours  host_response_time_within an hour  \\\n",
       "0                                      1                                  0   \n",
       "1                                      1                                  0   \n",
       "2                                      1                                  0   \n",
       "3                                      1                                  0   \n",
       "4                                      1                                  0   \n",
       "\n",
       "   neighbourhood_group_cleansed_Ballard  \\\n",
       "0                                     0   \n",
       "1                                     0   \n",
       "2                                     0   \n",
       "3                                     0   \n",
       "4                                     0   \n",
       "\n",
       "   neighbourhood_group_cleansed_Beacon Hill  \\\n",
       "0                                         0   \n",
       "1                                         0   \n",
       "2                                         0   \n",
       "3                                         0   \n",
       "4                                         0   \n",
       "\n",
       "   neighbourhood_group_cleansed_Capitol Hill  \\\n",
       "0                                          0   \n",
       "1                                          0   \n",
       "2                                          0   \n",
       "3                                          0   \n",
       "4                                          0   \n",
       "\n",
       "   neighbourhood_group_cleansed_Cascade  \\\n",
       "0                                     0   \n",
       "1                                     0   \n",
       "2                                     0   \n",
       "3                                     0   \n",
       "4                                     0   \n",
       "\n",
       "   neighbourhood_group_cleansed_Central Area  \\\n",
       "0                                          0   \n",
       "1                                          0   \n",
       "2                                          0   \n",
       "3                                          0   \n",
       "4                                          0   \n",
       "\n",
       "   neighbourhood_group_cleansed_Delridge  \\\n",
       "0                                      0   \n",
       "1                                      0   \n",
       "2                                      0   \n",
       "3                                      0   \n",
       "4                                      0   \n",
       "\n",
       "   neighbourhood_group_cleansed_Downtown  \\\n",
       "0                                      0   \n",
       "1                                      0   \n",
       "2                                      0   \n",
       "3                                      0   \n",
       "4                                      0   \n",
       "\n",
       "   neighbourhood_group_cleansed_Interbay  \\\n",
       "0                                      0   \n",
       "1                                      0   \n",
       "2                                      0   \n",
       "3                                      0   \n",
       "4                                      0   \n",
       "\n",
       "   neighbourhood_group_cleansed_Lake City  \\\n",
       "0                                       0   \n",
       "1                                       0   \n",
       "2                                       0   \n",
       "3                                       0   \n",
       "4                                       0   \n",
       "\n",
       "   neighbourhood_group_cleansed_Magnolia  \\\n",
       "0                                      0   \n",
       "1                                      0   \n",
       "2                                      0   \n",
       "3                                      0   \n",
       "4                                      0   \n",
       "\n",
       "   neighbourhood_group_cleansed_Northgate  \\\n",
       "0                                       0   \n",
       "1                                       0   \n",
       "2                                       0   \n",
       "3                                       0   \n",
       "4                                       0   \n",
       "\n",
       "   neighbourhood_group_cleansed_Other neighborhoods  \\\n",
       "0                                                 0   \n",
       "1                                                 0   \n",
       "2                                                 0   \n",
       "3                                                 0   \n",
       "4                                                 0   \n",
       "\n",
       "   neighbourhood_group_cleansed_Queen Anne  \\\n",
       "0                                        1   \n",
       "1                                        1   \n",
       "2                                        1   \n",
       "3                                        1   \n",
       "4                                        1   \n",
       "\n",
       "   neighbourhood_group_cleansed_Rainier Valley  \\\n",
       "0                                            0   \n",
       "1                                            0   \n",
       "2                                            0   \n",
       "3                                            0   \n",
       "4                                            0   \n",
       "\n",
       "   neighbourhood_group_cleansed_Seward Park  \\\n",
       "0                                         0   \n",
       "1                                         0   \n",
       "2                                         0   \n",
       "3                                         0   \n",
       "4                                         0   \n",
       "\n",
       "   neighbourhood_group_cleansed_University District  \\\n",
       "0                                                 0   \n",
       "1                                                 0   \n",
       "2                                                 0   \n",
       "3                                                 0   \n",
       "4                                                 0   \n",
       "\n",
       "   neighbourhood_group_cleansed_West Seattle  property_type_Apartment  \\\n",
       "0                                          0                        1   \n",
       "1                                          0                        1   \n",
       "2                                          0                        1   \n",
       "3                                          0                        1   \n",
       "4                                          0                        1   \n",
       "\n",
       "   property_type_Bed & Breakfast  property_type_Boat  property_type_Bungalow  \\\n",
       "0                              0                   0                       0   \n",
       "1                              0                   0                       0   \n",
       "2                              0                   0                       0   \n",
       "3                              0                   0                       0   \n",
       "4                              0                   0                       0   \n",
       "\n",
       "   property_type_Cabin  property_type_Camper/RV  property_type_Chalet  \\\n",
       "0                    0                        0                     0   \n",
       "1                    0                        0                     0   \n",
       "2                    0                        0                     0   \n",
       "3                    0                        0                     0   \n",
       "4                    0                        0                     0   \n",
       "\n",
       "   property_type_Condominium  property_type_Dorm  property_type_House  \\\n",
       "0                          0                   0                    0   \n",
       "1                          0                   0                    0   \n",
       "2                          0                   0                    0   \n",
       "3                          0                   0                    0   \n",
       "4                          0                   0                    0   \n",
       "\n",
       "   property_type_Loft  property_type_Other  property_type_Tent  \\\n",
       "0                   0                    0                   0   \n",
       "1                   0                    0                   0   \n",
       "2                   0                    0                   0   \n",
       "3                   0                    0                   0   \n",
       "4                   0                    0                   0   \n",
       "\n",
       "   property_type_Townhouse  property_type_Treehouse  property_type_Yurt  \\\n",
       "0                        0                        0                   0   \n",
       "1                        0                        0                   0   \n",
       "2                        0                        0                   0   \n",
       "3                        0                        0                   0   \n",
       "4                        0                        0                   0   \n",
       "\n",
       "   room_type_Entire home/apt  room_type_Private room  room_type_Shared room  \n",
       "0                          1                       0                      0  \n",
       "1                          1                       0                      0  \n",
       "2                          1                       0                      0  \n",
       "3                          1                       0                      0  \n",
       "4                          1                       0                      0  "
      ]
     },
     "execution_count": 55,
     "metadata": {},
     "output_type": "execute_result"
    }
   ],
   "source": [
    "dfCombinedFinal.head()"
   ]
  },
  {
   "cell_type": "markdown",
   "metadata": {},
   "source": [
    "#### Handling missing data"
   ]
  },
  {
   "cell_type": "code",
   "execution_count": 56,
   "metadata": {},
   "outputs": [],
   "source": [
    "col_with_missing_data = dfCombinedFinal.isna().mean().sort_values(ascending=False)"
   ]
  },
  {
   "cell_type": "code",
   "execution_count": 57,
   "metadata": {},
   "outputs": [
    {
     "data": {
      "text/plain": [
       "host_acceptance_rate      0.182236\n",
       "review_scores_rating      0.154661\n",
       "reviews_per_month         0.149128\n",
       "host_response_rate        0.116115\n",
       "bathrooms                 0.005139\n",
       "bedrooms                  0.002143\n",
       "host_is_superhost         0.000098\n",
       "host_identity_verified    0.000098\n",
       "dtype: float64"
      ]
     },
     "execution_count": 57,
     "metadata": {},
     "output_type": "execute_result"
    }
   ],
   "source": [
    "col_with_missing_data[col_with_missing_data > 0]"
   ]
  },
  {
   "cell_type": "markdown",
   "metadata": {},
   "source": [
    "#### Strategy: \n",
    "-  **host_acceptance_rate, review_scores_rating, reviews_per_month, host_response_rate**: We fill the missing entries for these columns using a statistic (median,mode) since these columns are not very highly correlating to the output.   <br/><br/>\n",
    "\n",
    "- **bathrooms, bedrooms**: We discard rows with these features missing, as these are highly correlating to the output, thus it would be important to have these details for a prediction.  <br/><br/>\n",
    "\n",
    "- **host_is_superhost,host_identity_verified**: Since very little data doesnt have this information, we can skip the entries that dont have these inputs. "
   ]
  },
  {
   "cell_type": "code",
   "execution_count": 58,
   "metadata": {},
   "outputs": [
    {
     "data": {
      "text/plain": [
       "100.0"
      ]
     },
     "execution_count": 58,
     "metadata": {},
     "output_type": "execute_result"
    }
   ],
   "source": [
    "dfCombinedFinal['host_acceptance_rate'].mode()[0]"
   ]
  },
  {
   "cell_type": "code",
   "execution_count": 59,
   "metadata": {},
   "outputs": [],
   "source": [
    "dfCombinedFinal['host_acceptance_rate'].fillna(dfCombinedFinal['host_acceptance_rate'].mode()[0],inplace=True)"
   ]
  },
  {
   "cell_type": "code",
   "execution_count": 60,
   "metadata": {},
   "outputs": [
    {
     "data": {
      "text/plain": [
       "100.0"
      ]
     },
     "execution_count": 60,
     "metadata": {},
     "output_type": "execute_result"
    }
   ],
   "source": [
    "dfCombinedFinal['review_scores_rating'].mode()[0]"
   ]
  },
  {
   "cell_type": "code",
   "execution_count": 61,
   "metadata": {},
   "outputs": [
    {
     "data": {
      "text/plain": [
       "96.0"
      ]
     },
     "execution_count": 61,
     "metadata": {},
     "output_type": "execute_result"
    }
   ],
   "source": [
    "dfCombinedFinal['review_scores_rating'].median()"
   ]
  },
  {
   "cell_type": "code",
   "execution_count": 62,
   "metadata": {},
   "outputs": [],
   "source": [
    "dfCombinedFinal['review_scores_rating'].fillna(dfCombinedFinal['review_scores_rating'].median(),inplace=True)"
   ]
  },
  {
   "cell_type": "code",
   "execution_count": 63,
   "metadata": {},
   "outputs": [
    {
     "data": {
      "text/plain": [
       "1.55"
      ]
     },
     "execution_count": 63,
     "metadata": {},
     "output_type": "execute_result"
    }
   ],
   "source": [
    "dfCombinedFinal['reviews_per_month'].median()"
   ]
  },
  {
   "cell_type": "code",
   "execution_count": 64,
   "metadata": {},
   "outputs": [
    {
     "data": {
      "text/plain": [
       "0    1.0\n",
       "dtype: float64"
      ]
     },
     "execution_count": 64,
     "metadata": {},
     "output_type": "execute_result"
    }
   ],
   "source": [
    "dfCombinedFinal['reviews_per_month'].mode()"
   ]
  },
  {
   "cell_type": "code",
   "execution_count": 65,
   "metadata": {},
   "outputs": [],
   "source": [
    "dfCombinedFinal['reviews_per_month'].fillna(dfCombinedFinal['reviews_per_month'].mode()[0],inplace=True)"
   ]
  },
  {
   "cell_type": "code",
   "execution_count": 66,
   "metadata": {},
   "outputs": [
    {
     "data": {
      "text/plain": [
       "100.0"
      ]
     },
     "execution_count": 66,
     "metadata": {},
     "output_type": "execute_result"
    }
   ],
   "source": [
    "dfCombinedFinal['host_response_rate'].median()"
   ]
  },
  {
   "cell_type": "code",
   "execution_count": 67,
   "metadata": {},
   "outputs": [
    {
     "data": {
      "text/plain": [
       "0    100.0\n",
       "dtype: float64"
      ]
     },
     "execution_count": 67,
     "metadata": {},
     "output_type": "execute_result"
    }
   ],
   "source": [
    "dfCombinedFinal['host_response_rate'].mode()"
   ]
  },
  {
   "cell_type": "code",
   "execution_count": 68,
   "metadata": {},
   "outputs": [],
   "source": [
    "dfCombinedFinal['host_response_rate'].fillna(dfCombinedFinal['reviews_per_month'].median(),inplace=True)"
   ]
  },
  {
   "cell_type": "code",
   "execution_count": 69,
   "metadata": {},
   "outputs": [
    {
     "data": {
      "text/plain": [
       "bathrooms                 0.005139\n",
       "bedrooms                  0.002143\n",
       "host_is_superhost         0.000098\n",
       "host_identity_verified    0.000098\n",
       "dtype: float64"
      ]
     },
     "execution_count": 69,
     "metadata": {},
     "output_type": "execute_result"
    }
   ],
   "source": [
    "col_with_missing_data = dfCombinedFinal.isna().mean().sort_values(ascending=False)\n",
    "col_with_missing_data[col_with_missing_data > 0]"
   ]
  },
  {
   "cell_type": "markdown",
   "metadata": {},
   "source": [
    "* We drop the remaining rows with NA values "
   ]
  },
  {
   "cell_type": "code",
   "execution_count": 70,
   "metadata": {},
   "outputs": [],
   "source": [
    "dfCombinedFinal.dropna(axis=0,inplace=True)"
   ]
  },
  {
   "cell_type": "code",
   "execution_count": 71,
   "metadata": {},
   "outputs": [
    {
     "data": {
      "text/plain": [
       "(927644, 57)"
      ]
     },
     "execution_count": 71,
     "metadata": {},
     "output_type": "execute_result"
    }
   ],
   "source": [
    "dfCombinedFinal.shape"
   ]
  },
  {
   "cell_type": "markdown",
   "metadata": {},
   "source": [
    "We make a function for this now and test the output with the dfCombinedFinal dataframe output"
   ]
  },
  {
   "cell_type": "code",
   "execution_count": 72,
   "metadata": {},
   "outputs": [],
   "source": [
    "def handle_missing_data(df):\n",
    "    '''\n",
    "    Handles missing values in each column depending on the strategy stated above and returns\n",
    "    clean dataframe with no missing values. \n",
    "    \n",
    "    Parameters\n",
    "    --------------\n",
    "    df : Input dataframe with missing values in certain columns \n",
    "    \n",
    "    Returns\n",
    "    --------------\n",
    "    df : Output dataframe with either missing values imputed or dropped. \n",
    "    \n",
    "    '''\n",
    "    df['host_acceptance_rate'].fillna(df['host_acceptance_rate'].mode()[0],inplace=True)\n",
    "    df['review_scores_rating'].fillna(df['review_scores_rating'].median(),inplace=True)\n",
    "    df['reviews_per_month'].fillna(df['reviews_per_month'].mode()[0],inplace=True)\n",
    "    df['host_response_rate'].fillna(df['reviews_per_month'].median(),inplace=True)\n",
    "    \n",
    "    col_with_missing_data = df.isna().mean().sort_values(ascending=False)\n",
    "    col_with_missing_data[col_with_missing_data > 0]\n",
    "    \n",
    "    df.dropna(axis=0,inplace=True)\n",
    "    \n",
    "    return df"
   ]
  },
  {
   "cell_type": "code",
   "execution_count": 73,
   "metadata": {},
   "outputs": [],
   "source": [
    "df2 = pd.concat([dfCombined.select_dtypes(['number']),dfCombinedCat],axis=1)\n",
    "dfCombinedFinal2 = handle_missing_data(df2)"
   ]
  },
  {
   "cell_type": "code",
   "execution_count": 74,
   "metadata": {},
   "outputs": [
    {
     "data": {
      "text/plain": [
       "True"
      ]
     },
     "execution_count": 74,
     "metadata": {},
     "output_type": "execute_result"
    }
   ],
   "source": [
    "dfCombinedFinal2.equals(dfCombinedFinal)"
   ]
  },
  {
   "cell_type": "markdown",
   "metadata": {},
   "source": [
    "* Awesome. Now that our data cleaning function is also set, we move towards splitting the data into features and output column to feed to the machine learning models."
   ]
  },
  {
   "cell_type": "markdown",
   "metadata": {},
   "source": [
    "* We finally have 54 features in our training data which we will use to build the models"
   ]
  },
  {
   "cell_type": "code",
   "execution_count": 75,
   "metadata": {},
   "outputs": [],
   "source": [
    "X = dfCombinedFinal.drop(['listing_id','host_id','price'],axis=1)"
   ]
  },
  {
   "cell_type": "code",
   "execution_count": 76,
   "metadata": {},
   "outputs": [],
   "source": [
    "y = dfCombinedFinal['price']"
   ]
  },
  {
   "cell_type": "code",
   "execution_count": 77,
   "metadata": {},
   "outputs": [],
   "source": [
    "from sklearn.model_selection import train_test_split\n",
    "from sklearn.linear_model import LinearRegression,Lasso\n",
    "from sklearn.ensemble import RandomForestRegressor\n",
    "from sklearn.preprocessing import MinMaxScaler"
   ]
  },
  {
   "cell_type": "code",
   "execution_count": 78,
   "metadata": {},
   "outputs": [],
   "source": [
    "X_train, X_test, y_train, y_test = train_test_split(X, y, random_state=0)"
   ]
  },
  {
   "cell_type": "code",
   "execution_count": 79,
   "metadata": {},
   "outputs": [],
   "source": [
    "scaler = MinMaxScaler()"
   ]
  },
  {
   "cell_type": "code",
   "execution_count": 80,
   "metadata": {},
   "outputs": [],
   "source": [
    "X_train_scaled = scaler.fit_transform(X_train)\n",
    "X_test_scaled = scaler.transform(X_test)"
   ]
  },
  {
   "cell_type": "code",
   "execution_count": 81,
   "metadata": {},
   "outputs": [],
   "source": [
    "LinRegModel = LinearRegression()"
   ]
  },
  {
   "cell_type": "code",
   "execution_count": 82,
   "metadata": {},
   "outputs": [
    {
     "data": {
      "text/plain": [
       "LinearRegression()"
      ]
     },
     "execution_count": 82,
     "metadata": {},
     "output_type": "execute_result"
    }
   ],
   "source": [
    "LinRegModel.fit(X_train_scaled,y_train)"
   ]
  },
  {
   "cell_type": "code",
   "execution_count": 83,
   "metadata": {},
   "outputs": [
    {
     "name": "stdout",
     "output_type": "stream",
     "text": [
      "Linear Regression Model: Train Score = 0.62\n"
     ]
    }
   ],
   "source": [
    "print(\"Linear Regression Model: Train Score = {:.2f}\".format(LinRegModel.score(X_train_scaled,y_train)))"
   ]
  },
  {
   "cell_type": "code",
   "execution_count": 84,
   "metadata": {},
   "outputs": [
    {
     "name": "stdout",
     "output_type": "stream",
     "text": [
      "Linear Regression Model: Test Score = 0.62\n"
     ]
    }
   ],
   "source": [
    "print(\"Linear Regression Model: Test Score = {:.2f}\".format(LinRegModel.score(X_test_scaled,y_test)))"
   ]
  },
  {
   "cell_type": "code",
   "execution_count": 85,
   "metadata": {},
   "outputs": [
    {
     "data": {
      "text/plain": [
       "array([-8.96614065e+00, -3.96192008e+01,  1.58009800e+01,  2.32352486e+00,\n",
       "        2.01237343e+02,  2.73717707e+02,  2.26822061e+02,  3.43087541e+01,\n",
       "       -1.31579547e+01,  7.49306590e+01, -5.96129688e+01, -1.11018826e+12,\n",
       "        8.47282060e+00,  6.04887510e-02, -1.11643881e+01, -1.35938661e+01,\n",
       "       -9.84649647e+00, -1.01831010e+01,  1.54080535e+13,  1.54080535e+13,\n",
       "        1.54080535e+13,  1.54080535e+13,  1.54080535e+13,  1.54080535e+13,\n",
       "        1.54080535e+13,  1.54080535e+13,  1.54080535e+13,  1.54080535e+13,\n",
       "        1.54080535e+13,  1.54080535e+13,  1.54080535e+13,  1.54080535e+13,\n",
       "        1.54080535e+13,  1.54080535e+13,  1.54080535e+13,  3.00740205e+01,\n",
       "        4.26131347e+01,  1.60484626e+02,  3.79214134e+01,  4.41546607e+01,\n",
       "        7.73967503e+01,  2.66981347e+01,  3.44291678e+01, -1.05195769e+02,\n",
       "        3.31450154e+01,  5.15154022e+01,  2.91182185e+01, -7.96899338e+00,\n",
       "        2.32426730e+01,  3.29218508e+01,  4.87701539e+01,  1.88099110e+13,\n",
       "        1.88099110e+13,  1.88099110e+13])"
      ]
     },
     "execution_count": 85,
     "metadata": {},
     "output_type": "execute_result"
    }
   ],
   "source": [
    "LinRegModel.coef_"
   ]
  },
  {
   "cell_type": "code",
   "execution_count": 86,
   "metadata": {},
   "outputs": [],
   "source": [
    "dfLinCoefs = pd.DataFrame({'columns':X_train.columns,\n",
    "              'Coefficient':LinRegModel.coef_})"
   ]
  },
  {
   "cell_type": "code",
   "execution_count": 87,
   "metadata": {},
   "outputs": [
    {
     "data": {
      "text/html": [
       "<div>\n",
       "<style scoped>\n",
       "    .dataframe tbody tr th:only-of-type {\n",
       "        vertical-align: middle;\n",
       "    }\n",
       "\n",
       "    .dataframe tbody tr th {\n",
       "        vertical-align: top;\n",
       "    }\n",
       "\n",
       "    .dataframe thead th {\n",
       "        text-align: right;\n",
       "    }\n",
       "</style>\n",
       "<table border=\"1\" class=\"dataframe\">\n",
       "  <thead>\n",
       "    <tr style=\"text-align: right;\">\n",
       "      <th></th>\n",
       "      <th>columns</th>\n",
       "      <th>Coefficient</th>\n",
       "    </tr>\n",
       "  </thead>\n",
       "  <tbody>\n",
       "    <tr>\n",
       "      <th>0</th>\n",
       "      <td>room_type_Entire home/apt</td>\n",
       "      <td>1.880991e+13</td>\n",
       "    </tr>\n",
       "    <tr>\n",
       "      <th>1</th>\n",
       "      <td>room_type_Private room</td>\n",
       "      <td>1.880991e+13</td>\n",
       "    </tr>\n",
       "    <tr>\n",
       "      <th>2</th>\n",
       "      <td>room_type_Shared room</td>\n",
       "      <td>1.880991e+13</td>\n",
       "    </tr>\n",
       "    <tr>\n",
       "      <th>3</th>\n",
       "      <td>neighbourhood_group_cleansed_Downtown</td>\n",
       "      <td>1.540805e+13</td>\n",
       "    </tr>\n",
       "    <tr>\n",
       "      <th>4</th>\n",
       "      <td>neighbourhood_group_cleansed_Queen Anne</td>\n",
       "      <td>1.540805e+13</td>\n",
       "    </tr>\n",
       "    <tr>\n",
       "      <th>5</th>\n",
       "      <td>neighbourhood_group_cleansed_Magnolia</td>\n",
       "      <td>1.540805e+13</td>\n",
       "    </tr>\n",
       "    <tr>\n",
       "      <th>6</th>\n",
       "      <td>neighbourhood_group_cleansed_Cascade</td>\n",
       "      <td>1.540805e+13</td>\n",
       "    </tr>\n",
       "    <tr>\n",
       "      <th>7</th>\n",
       "      <td>neighbourhood_group_cleansed_Capitol Hill</td>\n",
       "      <td>1.540805e+13</td>\n",
       "    </tr>\n",
       "    <tr>\n",
       "      <th>8</th>\n",
       "      <td>neighbourhood_group_cleansed_Interbay</td>\n",
       "      <td>1.540805e+13</td>\n",
       "    </tr>\n",
       "    <tr>\n",
       "      <th>9</th>\n",
       "      <td>neighbourhood_group_cleansed_West Seattle</td>\n",
       "      <td>1.540805e+13</td>\n",
       "    </tr>\n",
       "    <tr>\n",
       "      <th>10</th>\n",
       "      <td>neighbourhood_group_cleansed_University District</td>\n",
       "      <td>1.540805e+13</td>\n",
       "    </tr>\n",
       "    <tr>\n",
       "      <th>11</th>\n",
       "      <td>neighbourhood_group_cleansed_Other neighborhoods</td>\n",
       "      <td>1.540805e+13</td>\n",
       "    </tr>\n",
       "    <tr>\n",
       "      <th>12</th>\n",
       "      <td>neighbourhood_group_cleansed_Central Area</td>\n",
       "      <td>1.540805e+13</td>\n",
       "    </tr>\n",
       "    <tr>\n",
       "      <th>13</th>\n",
       "      <td>neighbourhood_group_cleansed_Ballard</td>\n",
       "      <td>1.540805e+13</td>\n",
       "    </tr>\n",
       "    <tr>\n",
       "      <th>14</th>\n",
       "      <td>neighbourhood_group_cleansed_Beacon Hill</td>\n",
       "      <td>1.540805e+13</td>\n",
       "    </tr>\n",
       "  </tbody>\n",
       "</table>\n",
       "</div>"
      ],
      "text/plain": [
       "                                             columns   Coefficient\n",
       "0                          room_type_Entire home/apt  1.880991e+13\n",
       "1                             room_type_Private room  1.880991e+13\n",
       "2                              room_type_Shared room  1.880991e+13\n",
       "3              neighbourhood_group_cleansed_Downtown  1.540805e+13\n",
       "4            neighbourhood_group_cleansed_Queen Anne  1.540805e+13\n",
       "5              neighbourhood_group_cleansed_Magnolia  1.540805e+13\n",
       "6               neighbourhood_group_cleansed_Cascade  1.540805e+13\n",
       "7          neighbourhood_group_cleansed_Capitol Hill  1.540805e+13\n",
       "8              neighbourhood_group_cleansed_Interbay  1.540805e+13\n",
       "9          neighbourhood_group_cleansed_West Seattle  1.540805e+13\n",
       "10  neighbourhood_group_cleansed_University District  1.540805e+13\n",
       "11  neighbourhood_group_cleansed_Other neighborhoods  1.540805e+13\n",
       "12         neighbourhood_group_cleansed_Central Area  1.540805e+13\n",
       "13              neighbourhood_group_cleansed_Ballard  1.540805e+13\n",
       "14          neighbourhood_group_cleansed_Beacon Hill  1.540805e+13"
      ]
     },
     "execution_count": 87,
     "metadata": {},
     "output_type": "execute_result"
    }
   ],
   "source": [
    "dfLinCoefs.sort_values(by='Coefficient',ascending=False).reset_index().drop(['index'],axis=1)[:15]"
   ]
  },
  {
   "cell_type": "markdown",
   "metadata": {},
   "source": [
    "* Unfortunately the coefficient weights dont seem to be matching to expected important variables. Since Linear model is unable to deduct any features away and also cannot capture correlations between features thus the coefficients will be a bit unexplainable. \n",
    "\n",
    "* We now move to a slightly better linear regression model. "
   ]
  },
  {
   "cell_type": "markdown",
   "metadata": {},
   "source": [
    "* Model 2: Lasso Regressor"
   ]
  },
  {
   "cell_type": "code",
   "execution_count": 88,
   "metadata": {},
   "outputs": [],
   "source": [
    "LassoModel = Lasso(alpha=0.1)"
   ]
  },
  {
   "cell_type": "code",
   "execution_count": 89,
   "metadata": {},
   "outputs": [
    {
     "data": {
      "text/plain": [
       "Lasso(alpha=0.1)"
      ]
     },
     "execution_count": 89,
     "metadata": {},
     "output_type": "execute_result"
    }
   ],
   "source": [
    "LassoModel.fit(X_train_scaled,y_train)"
   ]
  },
  {
   "cell_type": "code",
   "execution_count": 90,
   "metadata": {},
   "outputs": [
    {
     "name": "stdout",
     "output_type": "stream",
     "text": [
      "Lasso Regression Model: Train Score = 0.61\n"
     ]
    }
   ],
   "source": [
    "print(\"Lasso Regression Model: Train Score = {:.2f}\".format(LassoModel.score(X_train_scaled,y_train)))"
   ]
  },
  {
   "cell_type": "code",
   "execution_count": 91,
   "metadata": {},
   "outputs": [
    {
     "name": "stdout",
     "output_type": "stream",
     "text": [
      "Lasso Regression Model: Test Score = 0.61\n"
     ]
    }
   ],
   "source": [
    "print(\"Lasso Regression Model: Test Score = {:.2f}\".format(LassoModel.score(X_test_scaled,y_test)))"
   ]
  },
  {
   "cell_type": "code",
   "execution_count": 92,
   "metadata": {},
   "outputs": [
    {
     "data": {
      "text/plain": [
       "array([-17.5441838 ,  -0.        ,  15.81079732,   1.38838946,\n",
       "       198.62256424, 261.13614155, 229.72907183,  22.59185413,\n",
       "        -0.        ,  57.57114503, -54.19144118,   0.        ,\n",
       "         7.45221966,  -0.        ,  -0.        ,  -3.81748668,\n",
       "        -0.        ,  -0.        ,  -1.05462122,  -4.05930033,\n",
       "        24.42156846,  27.00783778,  -0.43670788, -13.64346172,\n",
       "        58.23510598,   0.        ,  -6.69593238,  30.12107133,\n",
       "       -21.71874312,   1.40964568,  34.34621373, -10.71364963,\n",
       "        -9.49995486,   0.        ,   3.96345362,  -4.78676907,\n",
       "         0.        ,  90.76615826,   0.        ,   0.        ,\n",
       "        13.17385043,  -0.        ,   0.        ,  -0.        ,\n",
       "        -1.96499468,   7.36284185,  -0.        ,  -0.        ,\n",
       "        -7.71466999,  -0.        ,   0.        ,  37.61851308,\n",
       "        -0.        , -32.5380585 ])"
      ]
     },
     "execution_count": 92,
     "metadata": {},
     "output_type": "execute_result"
    }
   ],
   "source": [
    "LassoModel.coef_"
   ]
  },
  {
   "cell_type": "code",
   "execution_count": 93,
   "metadata": {},
   "outputs": [],
   "source": [
    "dfLassoCoefs = pd.DataFrame({'columns':X_train.columns,\n",
    "              'Coefficient':LassoModel.coef_})"
   ]
  },
  {
   "cell_type": "code",
   "execution_count": 94,
   "metadata": {},
   "outputs": [
    {
     "data": {
      "text/html": [
       "<div>\n",
       "<style scoped>\n",
       "    .dataframe tbody tr th:only-of-type {\n",
       "        vertical-align: middle;\n",
       "    }\n",
       "\n",
       "    .dataframe tbody tr th {\n",
       "        vertical-align: top;\n",
       "    }\n",
       "\n",
       "    .dataframe thead th {\n",
       "        text-align: right;\n",
       "    }\n",
       "</style>\n",
       "<table border=\"1\" class=\"dataframe\">\n",
       "  <thead>\n",
       "    <tr style=\"text-align: right;\">\n",
       "      <th></th>\n",
       "      <th>columns</th>\n",
       "      <th>Coefficient</th>\n",
       "    </tr>\n",
       "  </thead>\n",
       "  <tbody>\n",
       "    <tr>\n",
       "      <th>0</th>\n",
       "      <td>bathrooms</td>\n",
       "      <td>261.136142</td>\n",
       "    </tr>\n",
       "    <tr>\n",
       "      <th>1</th>\n",
       "      <td>bedrooms</td>\n",
       "      <td>229.729072</td>\n",
       "    </tr>\n",
       "    <tr>\n",
       "      <th>2</th>\n",
       "      <td>accommodates</td>\n",
       "      <td>198.622564</td>\n",
       "    </tr>\n",
       "    <tr>\n",
       "      <th>3</th>\n",
       "      <td>property_type_Boat</td>\n",
       "      <td>90.766158</td>\n",
       "    </tr>\n",
       "    <tr>\n",
       "      <th>4</th>\n",
       "      <td>neighbourhood_group_cleansed_Downtown</td>\n",
       "      <td>58.235106</td>\n",
       "    </tr>\n",
       "    <tr>\n",
       "      <th>5</th>\n",
       "      <td>review_scores_rating</td>\n",
       "      <td>57.571145</td>\n",
       "    </tr>\n",
       "    <tr>\n",
       "      <th>6</th>\n",
       "      <td>room_type_Entire home/apt</td>\n",
       "      <td>37.618513</td>\n",
       "    </tr>\n",
       "    <tr>\n",
       "      <th>7</th>\n",
       "      <td>neighbourhood_group_cleansed_Queen Anne</td>\n",
       "      <td>34.346214</td>\n",
       "    </tr>\n",
       "    <tr>\n",
       "      <th>8</th>\n",
       "      <td>neighbourhood_group_cleansed_Magnolia</td>\n",
       "      <td>30.121071</td>\n",
       "    </tr>\n",
       "    <tr>\n",
       "      <th>9</th>\n",
       "      <td>neighbourhood_group_cleansed_Cascade</td>\n",
       "      <td>27.007838</td>\n",
       "    </tr>\n",
       "    <tr>\n",
       "      <th>10</th>\n",
       "      <td>neighbourhood_group_cleansed_Capitol Hill</td>\n",
       "      <td>24.421568</td>\n",
       "    </tr>\n",
       "    <tr>\n",
       "      <th>11</th>\n",
       "      <td>guests_included</td>\n",
       "      <td>22.591854</td>\n",
       "    </tr>\n",
       "    <tr>\n",
       "      <th>12</th>\n",
       "      <td>host_is_superhost</td>\n",
       "      <td>15.810797</td>\n",
       "    </tr>\n",
       "    <tr>\n",
       "      <th>13</th>\n",
       "      <td>property_type_Camper/RV</td>\n",
       "      <td>13.173850</td>\n",
       "    </tr>\n",
       "    <tr>\n",
       "      <th>14</th>\n",
       "      <td>month</td>\n",
       "      <td>7.452220</td>\n",
       "    </tr>\n",
       "  </tbody>\n",
       "</table>\n",
       "</div>"
      ],
      "text/plain": [
       "                                      columns  Coefficient\n",
       "0                                   bathrooms   261.136142\n",
       "1                                    bedrooms   229.729072\n",
       "2                                accommodates   198.622564\n",
       "3                          property_type_Boat    90.766158\n",
       "4       neighbourhood_group_cleansed_Downtown    58.235106\n",
       "5                        review_scores_rating    57.571145\n",
       "6                   room_type_Entire home/apt    37.618513\n",
       "7     neighbourhood_group_cleansed_Queen Anne    34.346214\n",
       "8       neighbourhood_group_cleansed_Magnolia    30.121071\n",
       "9        neighbourhood_group_cleansed_Cascade    27.007838\n",
       "10  neighbourhood_group_cleansed_Capitol Hill    24.421568\n",
       "11                            guests_included    22.591854\n",
       "12                          host_is_superhost    15.810797\n",
       "13                    property_type_Camper/RV    13.173850\n",
       "14                                      month     7.452220"
      ]
     },
     "execution_count": 94,
     "metadata": {},
     "output_type": "execute_result"
    }
   ],
   "source": [
    "dfLassoCoefs.sort_values(by='Coefficient',ascending=False).reset_index().drop(['index'],axis=1)[:15]"
   ]
  },
  {
   "cell_type": "markdown",
   "metadata": {},
   "source": [
    "We already see sensible features with higher weights so even though the scores of linear and lasso regression were not too different, Lasso regression is the model to go forward with between the two, since it is able to capture important features. \n",
    "\n",
    "We now move towards the final model: Random Forest Regressor, since it has the capacity to model complicated relationships between the features and the target variable. "
   ]
  },
  {
   "cell_type": "markdown",
   "metadata": {},
   "source": [
    "* Model 3: RF Regressor"
   ]
  },
  {
   "cell_type": "code",
   "execution_count": 95,
   "metadata": {},
   "outputs": [],
   "source": [
    "RFModel = RandomForestRegressor(n_estimators=100,\n",
    "                                random_state= 42,\n",
    "                                n_jobs=-1\n",
    "                               )"
   ]
  },
  {
   "cell_type": "code",
   "execution_count": 96,
   "metadata": {},
   "outputs": [
    {
     "data": {
      "text/plain": [
       "RandomForestRegressor(n_jobs=-1, random_state=42)"
      ]
     },
     "execution_count": 96,
     "metadata": {},
     "output_type": "execute_result"
    }
   ],
   "source": [
    "RFModel.fit(X_train,y_train)"
   ]
  },
  {
   "cell_type": "code",
   "execution_count": 97,
   "metadata": {},
   "outputs": [
    {
     "name": "stdout",
     "output_type": "stream",
     "text": [
      "RFModel Model: Train Score = 0.98\n"
     ]
    }
   ],
   "source": [
    "print(\"RFModel Model: Train Score = {:.2f}\".format(RFModel.score(X_train,y_train)))"
   ]
  },
  {
   "cell_type": "code",
   "execution_count": 98,
   "metadata": {},
   "outputs": [
    {
     "name": "stdout",
     "output_type": "stream",
     "text": [
      "RFModel Model: Test Score = 0.98\n"
     ]
    }
   ],
   "source": [
    "print(\"RFModel Model: Test Score = {:.2f}\".format(RFModel.score(X_test,y_test)))"
   ]
  },
  {
   "cell_type": "markdown",
   "metadata": {},
   "source": [
    "We now look at residual plots and prediction vs actual plots for each of the models. "
   ]
  },
  {
   "cell_type": "markdown",
   "metadata": {},
   "source": [
    "## Section 5. Validation"
   ]
  },
  {
   "cell_type": "markdown",
   "metadata": {},
   "source": [
    "* Performance"
   ]
  },
  {
   "cell_type": "code",
   "execution_count": 99,
   "metadata": {},
   "outputs": [],
   "source": [
    "y_pred_linreg = LinRegModel.predict(X_test_scaled)"
   ]
  },
  {
   "cell_type": "code",
   "execution_count": 100,
   "metadata": {},
   "outputs": [],
   "source": [
    "y_pred_lasso = LassoModel.predict(X_test_scaled)"
   ]
  },
  {
   "cell_type": "code",
   "execution_count": 101,
   "metadata": {},
   "outputs": [],
   "source": [
    "y_pred_RF = RFModel.predict(X_test)"
   ]
  },
  {
   "cell_type": "code",
   "execution_count": 102,
   "metadata": {},
   "outputs": [
    {
     "data": {
      "image/png": "[encoded data removed]",
      "text/plain": [
       "<Figure size 576x576 with 1 Axes>"
      ]
     },
     "metadata": {
      "needs_background": "light"
     },
     "output_type": "display_data"
    }
   ],
   "source": [
    "plt.figure(figsize = (8,8))\n",
    "plt.scatter(y_test,y_pred_linreg,marker='o');\n",
    "x = np.linspace(0,max(y_test));\n",
    "plt.plot(x,x,color = 'r');\n",
    "plt.xlabel('Actual Price');\n",
    "plt.ylabel('Predicted Price');\n",
    "plt.title('Linear Regression : Actual Vs Predicted Prices');"
   ]
  },
  {
   "cell_type": "markdown",
   "metadata": {},
   "source": [
    "* Linear Regression Model seems to underpredict larger prices (> 700)."
   ]
  },
  {
   "cell_type": "code",
   "execution_count": 103,
   "metadata": {
    "scrolled": true
   },
   "outputs": [
    {
     "data": {
      "image/png": "[encoded data removed]",
      "text/plain": [
       "<Figure size 576x576 with 1 Axes>"
      ]
     },
     "metadata": {
      "needs_background": "light"
     },
     "output_type": "display_data"
    }
   ],
   "source": [
    "plt.figure(figsize = (8,8))\n",
    "plt.scatter(y_test,y_pred_lasso,marker='o');\n",
    "x = np.linspace(0,max(y_test));\n",
    "plt.plot(x,x,color = 'r');\n",
    "plt.xlabel('Actual Price');\n",
    "plt.ylabel('Predicted Price');\n",
    "plt.title('Lasso Regression : Actual Vs Predicted Prices');"
   ]
  },
  {
   "cell_type": "markdown",
   "metadata": {},
   "source": [
    "* Same is the case with Lasso model, where higher price properties are underpredicted. "
   ]
  },
  {
   "cell_type": "code",
   "execution_count": 104,
   "metadata": {},
   "outputs": [
    {
     "data": {
      "image/png": "[encoded data removed]",
      "text/plain": [
       "<Figure size 576x576 with 1 Axes>"
      ]
     },
     "metadata": {
      "needs_background": "light"
     },
     "output_type": "display_data"
    }
   ],
   "source": [
    "plt.figure(figsize = (8,8))\n",
    "plt.scatter(y_test,y_pred_RF,marker='o');\n",
    "x = np.linspace(0,max(y_test));\n",
    "plt.plot(x,x,color = 'r');\n",
    "plt.xlabel('Actual Price');\n",
    "plt.ylabel('Predicted Price');\n",
    "plt.title('Random Forest Regression : Actual Vs Predicted Prices');"
   ]
  },
  {
   "cell_type": "markdown",
   "metadata": {},
   "source": [
    "* Random forest model seems to be capturing all price listings well in its predictions."
   ]
  },
  {
   "cell_type": "markdown",
   "metadata": {},
   "source": [
    "#### Residuals Plot"
   ]
  },
  {
   "cell_type": "markdown",
   "metadata": {},
   "source": [
    "We now look at error plots for each of the 3 models:"
   ]
  },
  {
   "cell_type": "code",
   "execution_count": 105,
   "metadata": {},
   "outputs": [
    {
     "data": {
      "image/png": "[encoded data removed]",
      "text/plain": [
       "<Figure size 576x576 with 1 Axes>"
      ]
     },
     "metadata": {
      "needs_background": "light"
     },
     "output_type": "display_data"
    }
   ],
   "source": [
    "plt.figure(figsize = (8,8))\n",
    "plt.scatter(y_test,(y_test - y_pred_linreg));\n",
    "plt.title('Residuals: Linear Regression');\n",
    "plt.xlabel('Actual Prices');\n",
    "plt.ylabel('Actual Price- Predicted Price');"
   ]
  },
  {
   "cell_type": "markdown",
   "metadata": {},
   "source": [
    "The residual errors do have a pattern since higher actual price listings have higher errors as seen in the prediction plot above. Thus this model is not a good predictor for higher price listings."
   ]
  },
  {
   "cell_type": "code",
   "execution_count": 106,
   "metadata": {},
   "outputs": [
    {
     "data": {
      "image/png": "[encoded data removed]",
      "text/plain": [
       "<Figure size 576x576 with 1 Axes>"
      ]
     },
     "metadata": {
      "needs_background": "light"
     },
     "output_type": "display_data"
    }
   ],
   "source": [
    "plt.figure(figsize = (8,8))\n",
    "plt.scatter(y_test,(y_test - y_pred_lasso));\n",
    "plt.title('Residuals: Lasso Regression');\n",
    "plt.xlabel('Actual Prices');\n",
    "plt.ylabel('Actual Price- Predicted Price');"
   ]
  },
  {
   "cell_type": "markdown",
   "metadata": {},
   "source": [
    "Similar to Linear Regression Residual plot, Lasso Regression residuals also increase linearly with higher actual prices, indicating the model's poor performance in that range of listings."
   ]
  },
  {
   "cell_type": "code",
   "execution_count": 107,
   "metadata": {},
   "outputs": [
    {
     "data": {
      "image/png": "[encoded data removed]",
      "text/plain": [
       "<Figure size 576x576 with 1 Axes>"
      ]
     },
     "metadata": {
      "needs_background": "light"
     },
     "output_type": "display_data"
    }
   ],
   "source": [
    "plt.figure(figsize = (8,8))\n",
    "plt.scatter(y_test,(y_test - y_pred_RF));\n",
    "plt.title('Residuals: Random Forest Regression');\n",
    "plt.xlabel('Actual Prices');\n",
    "plt.ylabel('Actual Price- Predicted Price');"
   ]
  },
  {
   "cell_type": "markdown",
   "metadata": {},
   "source": [
    "* Residuals plot here looks good with values having no pattern, as is required for a good residuals plot. "
   ]
  },
  {
   "cell_type": "markdown",
   "metadata": {},
   "source": [
    "We finally look at the important features found by Random Forest Regressor Model. "
   ]
  },
  {
   "cell_type": "code",
   "execution_count": 108,
   "metadata": {},
   "outputs": [],
   "source": [
    "dfFeatureImportance = pd.DataFrame({\n",
    "        'Features' : X_train.columns,\n",
    "    'FeatureImportance' : RFModel.feature_importances_\n",
    "}\n",
    ")"
   ]
  },
  {
   "cell_type": "code",
   "execution_count": 109,
   "metadata": {},
   "outputs": [],
   "source": [
    "dfFeatureImportance['FeatureImportance'] = dfFeatureImportance['FeatureImportance'] * 100"
   ]
  },
  {
   "cell_type": "code",
   "execution_count": 110,
   "metadata": {},
   "outputs": [
    {
     "data": {
      "text/html": [
       "<div>\n",
       "<style scoped>\n",
       "    .dataframe tbody tr th:only-of-type {\n",
       "        vertical-align: middle;\n",
       "    }\n",
       "\n",
       "    .dataframe tbody tr th {\n",
       "        vertical-align: top;\n",
       "    }\n",
       "\n",
       "    .dataframe thead th {\n",
       "        text-align: right;\n",
       "    }\n",
       "</style>\n",
       "<table border=\"1\" class=\"dataframe\">\n",
       "  <thead>\n",
       "    <tr style=\"text-align: right;\">\n",
       "      <th></th>\n",
       "      <th>Features</th>\n",
       "      <th>FeatureImportance</th>\n",
       "    </tr>\n",
       "  </thead>\n",
       "  <tbody>\n",
       "    <tr>\n",
       "      <th>0</th>\n",
       "      <td>bedrooms</td>\n",
       "      <td>38.620767</td>\n",
       "    </tr>\n",
       "    <tr>\n",
       "      <th>1</th>\n",
       "      <td>bathrooms</td>\n",
       "      <td>16.119996</td>\n",
       "    </tr>\n",
       "    <tr>\n",
       "      <th>2</th>\n",
       "      <td>reviews_per_month</td>\n",
       "      <td>7.196362</td>\n",
       "    </tr>\n",
       "    <tr>\n",
       "      <th>3</th>\n",
       "      <td>accommodates</td>\n",
       "      <td>4.928941</td>\n",
       "    </tr>\n",
       "    <tr>\n",
       "      <th>4</th>\n",
       "      <td>room_type_Entire home/apt</td>\n",
       "      <td>4.567650</td>\n",
       "    </tr>\n",
       "    <tr>\n",
       "      <th>5</th>\n",
       "      <td>month</td>\n",
       "      <td>4.238756</td>\n",
       "    </tr>\n",
       "    <tr>\n",
       "      <th>6</th>\n",
       "      <td>review_scores_rating</td>\n",
       "      <td>3.040524</td>\n",
       "    </tr>\n",
       "    <tr>\n",
       "      <th>7</th>\n",
       "      <td>neighbourhood_group_cleansed_Downtown</td>\n",
       "      <td>2.587370</td>\n",
       "    </tr>\n",
       "    <tr>\n",
       "      <th>8</th>\n",
       "      <td>minimum_nights</td>\n",
       "      <td>2.539933</td>\n",
       "    </tr>\n",
       "    <tr>\n",
       "      <th>9</th>\n",
       "      <td>guests_included</td>\n",
       "      <td>2.333865</td>\n",
       "    </tr>\n",
       "    <tr>\n",
       "      <th>10</th>\n",
       "      <td>host_response_rate</td>\n",
       "      <td>2.102599</td>\n",
       "    </tr>\n",
       "    <tr>\n",
       "      <th>11</th>\n",
       "      <td>neighbourhood_group_cleansed_Queen Anne</td>\n",
       "      <td>1.298627</td>\n",
       "    </tr>\n",
       "    <tr>\n",
       "      <th>12</th>\n",
       "      <td>property_type_Boat</td>\n",
       "      <td>1.003263</td>\n",
       "    </tr>\n",
       "    <tr>\n",
       "      <th>13</th>\n",
       "      <td>host_identity_verified</td>\n",
       "      <td>0.992196</td>\n",
       "    </tr>\n",
       "    <tr>\n",
       "      <th>14</th>\n",
       "      <td>host_is_superhost</td>\n",
       "      <td>0.821932</td>\n",
       "    </tr>\n",
       "  </tbody>\n",
       "</table>\n",
       "</div>"
      ],
      "text/plain": [
       "                                   Features  FeatureImportance\n",
       "0                                  bedrooms          38.620767\n",
       "1                                 bathrooms          16.119996\n",
       "2                         reviews_per_month           7.196362\n",
       "3                              accommodates           4.928941\n",
       "4                 room_type_Entire home/apt           4.567650\n",
       "5                                     month           4.238756\n",
       "6                      review_scores_rating           3.040524\n",
       "7     neighbourhood_group_cleansed_Downtown           2.587370\n",
       "8                            minimum_nights           2.539933\n",
       "9                           guests_included           2.333865\n",
       "10                       host_response_rate           2.102599\n",
       "11  neighbourhood_group_cleansed_Queen Anne           1.298627\n",
       "12                       property_type_Boat           1.003263\n",
       "13                   host_identity_verified           0.992196\n",
       "14                        host_is_superhost           0.821932"
      ]
     },
     "execution_count": 110,
     "metadata": {},
     "output_type": "execute_result"
    }
   ],
   "source": [
    "dfFeatureImportance.sort_values(by=['FeatureImportance'],ascending=False).reset_index().drop(['index'],axis=1)[:15]"
   ]
  },
  {
   "cell_type": "markdown",
   "metadata": {},
   "source": [
    "Features that we expected to be related to price determination are also deemed important by the Random Forest Regressor model. "
   ]
  },
  {
   "cell_type": "markdown",
   "metadata": {},
   "source": [
    "#### Summary: "
   ]
  },
  {
   "cell_type": "markdown",
   "metadata": {},
   "source": [
    "In this notebook we looked at Seattle AirBnB data. \n",
    "\n",
    "We investigated a few questions through the available data:   \n",
    "    \n",
    "    1. How are the prices of properties distributed across the neighborhoods?\n",
    "    \n",
    "    2. Are there price variations within the year? Which months are most expensive and which are not?  \n",
    "    \n",
    "    3. Which are the important factors for determining the price of a property? Can we model this?   \n",
    "\n",
    "We did basic data wrangling to get the features we require from the data for the model.\n",
    "We then built a few models to estimate price for a listing given the features. Random Forest model did quite a good job in estimating the prices. \n",
    "\n",
    "Hope this gave some flavor in analysing the data through a CRISP-DM methodology. \n",
    "Cheers!\n",
    " \n",
    "    "
   ]
  },
  {
   "cell_type": "code",
   "execution_count": null,
   "metadata": {},
   "outputs": [],
   "source": []
  }
 ],
 "metadata": {
  "kernelspec": {
   "display_name": "Python 3",
   "language": "python",
   "name": "python3"
  },
  "language_info": {
   "codemirror_mode": {
    "name": "ipython",
    "version": 3
   },
   "file_extension": ".py",
   "mimetype": "text/x-python",
   "name": "python",
   "nbconvert_exporter": "python",
   "pygments_lexer": "ipython3",
   "version": "3.8.3"
  }
 },
 "nbformat": 4,
 "nbformat_minor": 4
}
